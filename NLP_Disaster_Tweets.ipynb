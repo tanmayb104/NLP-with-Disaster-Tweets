{
  "nbformat": 4,
  "nbformat_minor": 0,
  "metadata": {
    "colab": {
      "name": "NLP_Disaster_Tweets.ipynb",
      "provenance": [],
      "authorship_tag": "ABX9TyNKFW4TLsSalOdPbtxhFoEc",
      "include_colab_link": true
    },
    "kernelspec": {
      "name": "python3",
      "display_name": "Python 3"
    },
    "language_info": {
      "name": "python"
    }
  },
  "cells": [
    {
      "cell_type": "markdown",
      "metadata": {
        "id": "view-in-github",
        "colab_type": "text"
      },
      "source": [
        "<a href=\"https://colab.research.google.com/github/tanmayb104/NLP-with-Disaster-Tweets/blob/main/NLP_Disaster_Tweets.ipynb\" target=\"_parent\"><img src=\"https://colab.research.google.com/assets/colab-badge.svg\" alt=\"Open In Colab\"/></a>"
      ]
    },
    {
      "cell_type": "code",
      "execution_count": 1,
      "metadata": {
        "id": "uFs2yiWg5tG6"
      },
      "outputs": [],
      "source": [
        "import pandas as pd\n",
        "import nltk\n",
        "import seaborn as sns\n",
        "import matplotlib.pyplot as plt\n",
        "import re\n",
        "from nltk.corpus import stopwords\n",
        "from nltk.stem import PorterStemmer\n",
        "from nltk.stem import WordNetLemmatizer\n",
        "import string"
      ]
    },
    {
      "cell_type": "code",
      "source": [
        "nltk.download('stopwords')\n",
        "nltk.download('wordnet')"
      ],
      "metadata": {
        "colab": {
          "base_uri": "https://localhost:8080/"
        },
        "id": "HLwaXGvG65Rc",
        "outputId": "9c0e5adc-5eb3-4fab-f67c-f59705d56bac"
      },
      "execution_count": 2,
      "outputs": [
        {
          "output_type": "stream",
          "name": "stdout",
          "text": [
            "[nltk_data] Downloading package stopwords to /root/nltk_data...\n",
            "[nltk_data]   Unzipping corpora/stopwords.zip.\n",
            "[nltk_data] Downloading package wordnet to /root/nltk_data...\n",
            "[nltk_data]   Unzipping corpora/wordnet.zip.\n"
          ]
        },
        {
          "output_type": "execute_result",
          "data": {
            "text/plain": [
              "True"
            ]
          },
          "metadata": {},
          "execution_count": 2
        }
      ]
    },
    {
      "cell_type": "markdown",
      "source": [
        "**Read Dataset**"
      ],
      "metadata": {
        "id": "-uNZ38uS8ZkL"
      }
    },
    {
      "cell_type": "code",
      "source": [
        "train = pd.read_csv('sample_data/train.csv')\n",
        "train.head()"
      ],
      "metadata": {
        "colab": {
          "base_uri": "https://localhost:8080/",
          "height": 206
        },
        "id": "ADA4nztF67EM",
        "outputId": "2c463beb-9ee3-4379-e155-0af37be8d0cc"
      },
      "execution_count": 4,
      "outputs": [
        {
          "output_type": "execute_result",
          "data": {
            "text/html": [
              "\n",
              "  <div id=\"df-b35bbd34-32c8-49d6-8bea-7657a3cda8f2\">\n",
              "    <div class=\"colab-df-container\">\n",
              "      <div>\n",
              "<style scoped>\n",
              "    .dataframe tbody tr th:only-of-type {\n",
              "        vertical-align: middle;\n",
              "    }\n",
              "\n",
              "    .dataframe tbody tr th {\n",
              "        vertical-align: top;\n",
              "    }\n",
              "\n",
              "    .dataframe thead th {\n",
              "        text-align: right;\n",
              "    }\n",
              "</style>\n",
              "<table border=\"1\" class=\"dataframe\">\n",
              "  <thead>\n",
              "    <tr style=\"text-align: right;\">\n",
              "      <th></th>\n",
              "      <th>id</th>\n",
              "      <th>keyword</th>\n",
              "      <th>location</th>\n",
              "      <th>text</th>\n",
              "      <th>target</th>\n",
              "    </tr>\n",
              "  </thead>\n",
              "  <tbody>\n",
              "    <tr>\n",
              "      <th>0</th>\n",
              "      <td>1</td>\n",
              "      <td>NaN</td>\n",
              "      <td>NaN</td>\n",
              "      <td>Our Deeds are the Reason of this #earthquake M...</td>\n",
              "      <td>1</td>\n",
              "    </tr>\n",
              "    <tr>\n",
              "      <th>1</th>\n",
              "      <td>4</td>\n",
              "      <td>NaN</td>\n",
              "      <td>NaN</td>\n",
              "      <td>Forest fire near La Ronge Sask. Canada</td>\n",
              "      <td>1</td>\n",
              "    </tr>\n",
              "    <tr>\n",
              "      <th>2</th>\n",
              "      <td>5</td>\n",
              "      <td>NaN</td>\n",
              "      <td>NaN</td>\n",
              "      <td>All residents asked to 'shelter in place' are ...</td>\n",
              "      <td>1</td>\n",
              "    </tr>\n",
              "    <tr>\n",
              "      <th>3</th>\n",
              "      <td>6</td>\n",
              "      <td>NaN</td>\n",
              "      <td>NaN</td>\n",
              "      <td>13,000 people receive #wildfires evacuation or...</td>\n",
              "      <td>1</td>\n",
              "    </tr>\n",
              "    <tr>\n",
              "      <th>4</th>\n",
              "      <td>7</td>\n",
              "      <td>NaN</td>\n",
              "      <td>NaN</td>\n",
              "      <td>Just got sent this photo from Ruby #Alaska as ...</td>\n",
              "      <td>1</td>\n",
              "    </tr>\n",
              "  </tbody>\n",
              "</table>\n",
              "</div>\n",
              "      <button class=\"colab-df-convert\" onclick=\"convertToInteractive('df-b35bbd34-32c8-49d6-8bea-7657a3cda8f2')\"\n",
              "              title=\"Convert this dataframe to an interactive table.\"\n",
              "              style=\"display:none;\">\n",
              "        \n",
              "  <svg xmlns=\"http://www.w3.org/2000/svg\" height=\"24px\"viewBox=\"0 0 24 24\"\n",
              "       width=\"24px\">\n",
              "    <path d=\"M0 0h24v24H0V0z\" fill=\"none\"/>\n",
              "    <path d=\"M18.56 5.44l.94 2.06.94-2.06 2.06-.94-2.06-.94-.94-2.06-.94 2.06-2.06.94zm-11 1L8.5 8.5l.94-2.06 2.06-.94-2.06-.94L8.5 2.5l-.94 2.06-2.06.94zm10 10l.94 2.06.94-2.06 2.06-.94-2.06-.94-.94-2.06-.94 2.06-2.06.94z\"/><path d=\"M17.41 7.96l-1.37-1.37c-.4-.4-.92-.59-1.43-.59-.52 0-1.04.2-1.43.59L10.3 9.45l-7.72 7.72c-.78.78-.78 2.05 0 2.83L4 21.41c.39.39.9.59 1.41.59.51 0 1.02-.2 1.41-.59l7.78-7.78 2.81-2.81c.8-.78.8-2.07 0-2.86zM5.41 20L4 18.59l7.72-7.72 1.47 1.35L5.41 20z\"/>\n",
              "  </svg>\n",
              "      </button>\n",
              "      \n",
              "  <style>\n",
              "    .colab-df-container {\n",
              "      display:flex;\n",
              "      flex-wrap:wrap;\n",
              "      gap: 12px;\n",
              "    }\n",
              "\n",
              "    .colab-df-convert {\n",
              "      background-color: #E8F0FE;\n",
              "      border: none;\n",
              "      border-radius: 50%;\n",
              "      cursor: pointer;\n",
              "      display: none;\n",
              "      fill: #1967D2;\n",
              "      height: 32px;\n",
              "      padding: 0 0 0 0;\n",
              "      width: 32px;\n",
              "    }\n",
              "\n",
              "    .colab-df-convert:hover {\n",
              "      background-color: #E2EBFA;\n",
              "      box-shadow: 0px 1px 2px rgba(60, 64, 67, 0.3), 0px 1px 3px 1px rgba(60, 64, 67, 0.15);\n",
              "      fill: #174EA6;\n",
              "    }\n",
              "\n",
              "    [theme=dark] .colab-df-convert {\n",
              "      background-color: #3B4455;\n",
              "      fill: #D2E3FC;\n",
              "    }\n",
              "\n",
              "    [theme=dark] .colab-df-convert:hover {\n",
              "      background-color: #434B5C;\n",
              "      box-shadow: 0px 1px 3px 1px rgba(0, 0, 0, 0.15);\n",
              "      filter: drop-shadow(0px 1px 2px rgba(0, 0, 0, 0.3));\n",
              "      fill: #FFFFFF;\n",
              "    }\n",
              "  </style>\n",
              "\n",
              "      <script>\n",
              "        const buttonEl =\n",
              "          document.querySelector('#df-b35bbd34-32c8-49d6-8bea-7657a3cda8f2 button.colab-df-convert');\n",
              "        buttonEl.style.display =\n",
              "          google.colab.kernel.accessAllowed ? 'block' : 'none';\n",
              "\n",
              "        async function convertToInteractive(key) {\n",
              "          const element = document.querySelector('#df-b35bbd34-32c8-49d6-8bea-7657a3cda8f2');\n",
              "          const dataTable =\n",
              "            await google.colab.kernel.invokeFunction('convertToInteractive',\n",
              "                                                     [key], {});\n",
              "          if (!dataTable) return;\n",
              "\n",
              "          const docLinkHtml = 'Like what you see? Visit the ' +\n",
              "            '<a target=\"_blank\" href=https://colab.research.google.com/notebooks/data_table.ipynb>data table notebook</a>'\n",
              "            + ' to learn more about interactive tables.';\n",
              "          element.innerHTML = '';\n",
              "          dataTable['output_type'] = 'display_data';\n",
              "          await google.colab.output.renderOutput(dataTable, element);\n",
              "          const docLink = document.createElement('div');\n",
              "          docLink.innerHTML = docLinkHtml;\n",
              "          element.appendChild(docLink);\n",
              "        }\n",
              "      </script>\n",
              "    </div>\n",
              "  </div>\n",
              "  "
            ],
            "text/plain": [
              "   id keyword  ...                                               text target\n",
              "0   1     NaN  ...  Our Deeds are the Reason of this #earthquake M...      1\n",
              "1   4     NaN  ...             Forest fire near La Ronge Sask. Canada      1\n",
              "2   5     NaN  ...  All residents asked to 'shelter in place' are ...      1\n",
              "3   6     NaN  ...  13,000 people receive #wildfires evacuation or...      1\n",
              "4   7     NaN  ...  Just got sent this photo from Ruby #Alaska as ...      1\n",
              "\n",
              "[5 rows x 5 columns]"
            ]
          },
          "metadata": {},
          "execution_count": 4
        }
      ]
    },
    {
      "cell_type": "code",
      "source": [
        "test = pd.read_csv('sample_data/test.csv')\n",
        "test.head()"
      ],
      "metadata": {
        "colab": {
          "base_uri": "https://localhost:8080/",
          "height": 206
        },
        "id": "ek01cunB7Nqk",
        "outputId": "8354848f-3de1-4543-8c84-d3de7446ae9c"
      },
      "execution_count": 3,
      "outputs": [
        {
          "output_type": "execute_result",
          "data": {
            "text/html": [
              "\n",
              "  <div id=\"df-7e604d7e-add5-4db8-bec2-8dca66dbbb55\">\n",
              "    <div class=\"colab-df-container\">\n",
              "      <div>\n",
              "<style scoped>\n",
              "    .dataframe tbody tr th:only-of-type {\n",
              "        vertical-align: middle;\n",
              "    }\n",
              "\n",
              "    .dataframe tbody tr th {\n",
              "        vertical-align: top;\n",
              "    }\n",
              "\n",
              "    .dataframe thead th {\n",
              "        text-align: right;\n",
              "    }\n",
              "</style>\n",
              "<table border=\"1\" class=\"dataframe\">\n",
              "  <thead>\n",
              "    <tr style=\"text-align: right;\">\n",
              "      <th></th>\n",
              "      <th>id</th>\n",
              "      <th>keyword</th>\n",
              "      <th>location</th>\n",
              "      <th>text</th>\n",
              "    </tr>\n",
              "  </thead>\n",
              "  <tbody>\n",
              "    <tr>\n",
              "      <th>0</th>\n",
              "      <td>0</td>\n",
              "      <td>NaN</td>\n",
              "      <td>NaN</td>\n",
              "      <td>Just happened a terrible car crash</td>\n",
              "    </tr>\n",
              "    <tr>\n",
              "      <th>1</th>\n",
              "      <td>2</td>\n",
              "      <td>NaN</td>\n",
              "      <td>NaN</td>\n",
              "      <td>Heard about #earthquake is different cities, s...</td>\n",
              "    </tr>\n",
              "    <tr>\n",
              "      <th>2</th>\n",
              "      <td>3</td>\n",
              "      <td>NaN</td>\n",
              "      <td>NaN</td>\n",
              "      <td>there is a forest fire at spot pond, geese are...</td>\n",
              "    </tr>\n",
              "    <tr>\n",
              "      <th>3</th>\n",
              "      <td>9</td>\n",
              "      <td>NaN</td>\n",
              "      <td>NaN</td>\n",
              "      <td>Apocalypse lighting. #Spokane #wildfires</td>\n",
              "    </tr>\n",
              "    <tr>\n",
              "      <th>4</th>\n",
              "      <td>11</td>\n",
              "      <td>NaN</td>\n",
              "      <td>NaN</td>\n",
              "      <td>Typhoon Soudelor kills 28 in China and Taiwan</td>\n",
              "    </tr>\n",
              "  </tbody>\n",
              "</table>\n",
              "</div>\n",
              "      <button class=\"colab-df-convert\" onclick=\"convertToInteractive('df-7e604d7e-add5-4db8-bec2-8dca66dbbb55')\"\n",
              "              title=\"Convert this dataframe to an interactive table.\"\n",
              "              style=\"display:none;\">\n",
              "        \n",
              "  <svg xmlns=\"http://www.w3.org/2000/svg\" height=\"24px\"viewBox=\"0 0 24 24\"\n",
              "       width=\"24px\">\n",
              "    <path d=\"M0 0h24v24H0V0z\" fill=\"none\"/>\n",
              "    <path d=\"M18.56 5.44l.94 2.06.94-2.06 2.06-.94-2.06-.94-.94-2.06-.94 2.06-2.06.94zm-11 1L8.5 8.5l.94-2.06 2.06-.94-2.06-.94L8.5 2.5l-.94 2.06-2.06.94zm10 10l.94 2.06.94-2.06 2.06-.94-2.06-.94-.94-2.06-.94 2.06-2.06.94z\"/><path d=\"M17.41 7.96l-1.37-1.37c-.4-.4-.92-.59-1.43-.59-.52 0-1.04.2-1.43.59L10.3 9.45l-7.72 7.72c-.78.78-.78 2.05 0 2.83L4 21.41c.39.39.9.59 1.41.59.51 0 1.02-.2 1.41-.59l7.78-7.78 2.81-2.81c.8-.78.8-2.07 0-2.86zM5.41 20L4 18.59l7.72-7.72 1.47 1.35L5.41 20z\"/>\n",
              "  </svg>\n",
              "      </button>\n",
              "      \n",
              "  <style>\n",
              "    .colab-df-container {\n",
              "      display:flex;\n",
              "      flex-wrap:wrap;\n",
              "      gap: 12px;\n",
              "    }\n",
              "\n",
              "    .colab-df-convert {\n",
              "      background-color: #E8F0FE;\n",
              "      border: none;\n",
              "      border-radius: 50%;\n",
              "      cursor: pointer;\n",
              "      display: none;\n",
              "      fill: #1967D2;\n",
              "      height: 32px;\n",
              "      padding: 0 0 0 0;\n",
              "      width: 32px;\n",
              "    }\n",
              "\n",
              "    .colab-df-convert:hover {\n",
              "      background-color: #E2EBFA;\n",
              "      box-shadow: 0px 1px 2px rgba(60, 64, 67, 0.3), 0px 1px 3px 1px rgba(60, 64, 67, 0.15);\n",
              "      fill: #174EA6;\n",
              "    }\n",
              "\n",
              "    [theme=dark] .colab-df-convert {\n",
              "      background-color: #3B4455;\n",
              "      fill: #D2E3FC;\n",
              "    }\n",
              "\n",
              "    [theme=dark] .colab-df-convert:hover {\n",
              "      background-color: #434B5C;\n",
              "      box-shadow: 0px 1px 3px 1px rgba(0, 0, 0, 0.15);\n",
              "      filter: drop-shadow(0px 1px 2px rgba(0, 0, 0, 0.3));\n",
              "      fill: #FFFFFF;\n",
              "    }\n",
              "  </style>\n",
              "\n",
              "      <script>\n",
              "        const buttonEl =\n",
              "          document.querySelector('#df-7e604d7e-add5-4db8-bec2-8dca66dbbb55 button.colab-df-convert');\n",
              "        buttonEl.style.display =\n",
              "          google.colab.kernel.accessAllowed ? 'block' : 'none';\n",
              "\n",
              "        async function convertToInteractive(key) {\n",
              "          const element = document.querySelector('#df-7e604d7e-add5-4db8-bec2-8dca66dbbb55');\n",
              "          const dataTable =\n",
              "            await google.colab.kernel.invokeFunction('convertToInteractive',\n",
              "                                                     [key], {});\n",
              "          if (!dataTable) return;\n",
              "\n",
              "          const docLinkHtml = 'Like what you see? Visit the ' +\n",
              "            '<a target=\"_blank\" href=https://colab.research.google.com/notebooks/data_table.ipynb>data table notebook</a>'\n",
              "            + ' to learn more about interactive tables.';\n",
              "          element.innerHTML = '';\n",
              "          dataTable['output_type'] = 'display_data';\n",
              "          await google.colab.output.renderOutput(dataTable, element);\n",
              "          const docLink = document.createElement('div');\n",
              "          docLink.innerHTML = docLinkHtml;\n",
              "          element.appendChild(docLink);\n",
              "        }\n",
              "      </script>\n",
              "    </div>\n",
              "  </div>\n",
              "  "
            ],
            "text/plain": [
              "   id keyword location                                               text\n",
              "0   0     NaN      NaN                 Just happened a terrible car crash\n",
              "1   2     NaN      NaN  Heard about #earthquake is different cities, s...\n",
              "2   3     NaN      NaN  there is a forest fire at spot pond, geese are...\n",
              "3   9     NaN      NaN           Apocalypse lighting. #Spokane #wildfires\n",
              "4  11     NaN      NaN      Typhoon Soudelor kills 28 in China and Taiwan"
            ]
          },
          "metadata": {},
          "execution_count": 3
        }
      ]
    },
    {
      "cell_type": "code",
      "source": [
        "print(train.shape)\n",
        "print(test.shape)"
      ],
      "metadata": {
        "colab": {
          "base_uri": "https://localhost:8080/"
        },
        "id": "Rm5iVvCiybZj",
        "outputId": "e1cac134-0e90-449b-8fd4-8aa63908a396"
      },
      "execution_count": 5,
      "outputs": [
        {
          "output_type": "stream",
          "name": "stdout",
          "text": [
            "(7613, 5)\n",
            "(3263, 4)\n"
          ]
        }
      ]
    },
    {
      "cell_type": "code",
      "source": [
        "train.duplicated().sum()"
      ],
      "metadata": {
        "colab": {
          "base_uri": "https://localhost:8080/"
        },
        "id": "2uaSXkEqRune",
        "outputId": "09bdffbd-f158-48b2-bd2c-3bde5b1eaa0e"
      },
      "execution_count": 6,
      "outputs": [
        {
          "output_type": "execute_result",
          "data": {
            "text/plain": [
              "0"
            ]
          },
          "metadata": {},
          "execution_count": 6
        }
      ]
    },
    {
      "cell_type": "code",
      "source": [
        "train.isnull().sum()"
      ],
      "metadata": {
        "colab": {
          "base_uri": "https://localhost:8080/"
        },
        "id": "nXQtMFzByi8x",
        "outputId": "b530eb60-fe31-4a5c-f66f-b7534c9e2ec0"
      },
      "execution_count": 6,
      "outputs": [
        {
          "output_type": "execute_result",
          "data": {
            "text/plain": [
              "id             0\n",
              "keyword       61\n",
              "location    2533\n",
              "text           0\n",
              "target         0\n",
              "dtype: int64"
            ]
          },
          "metadata": {},
          "execution_count": 6
        }
      ]
    },
    {
      "cell_type": "code",
      "source": [
        "test.isnull().sum()"
      ],
      "metadata": {
        "colab": {
          "base_uri": "https://localhost:8080/"
        },
        "id": "PQLXmvOaylYQ",
        "outputId": "663a7554-f0d4-485b-83b8-376614608379"
      },
      "execution_count": 7,
      "outputs": [
        {
          "output_type": "execute_result",
          "data": {
            "text/plain": [
              "id             0\n",
              "keyword       26\n",
              "location    1105\n",
              "text           0\n",
              "dtype: int64"
            ]
          },
          "metadata": {},
          "execution_count": 7
        }
      ]
    },
    {
      "cell_type": "code",
      "source": [
        "#Visualizing class distribution \n",
        "plt.figure(figsize=(12,8))\n",
        "sns.countplot(y='target',data = train,palette=\"Paired\")\n",
        "plt.ylabel(\"Tweet Fallacy\")\n",
        "plt.xlabel(\"Number of tweets\")\n",
        "plt.show()"
      ],
      "metadata": {
        "colab": {
          "base_uri": "https://localhost:8080/",
          "height": 497
        },
        "id": "YqMuG9VYyvoZ",
        "outputId": "0431a11a-b9f1-4a23-a200-052476e89809"
      },
      "execution_count": 8,
      "outputs": [
        {
          "output_type": "display_data",
          "data": {
            "image/png": "[encoded data removed]",
            "text/plain": [
              "<Figure size 864x576 with 1 Axes>"
            ]
          },
          "metadata": {
            "needs_background": "light"
          }
        }
      ]
    },
    {
      "cell_type": "markdown",
      "source": [
        "**Clean the dataset**"
      ],
      "metadata": {
        "id": "I9moa4Kx8fQi"
      }
    },
    {
      "cell_type": "code",
      "source": [
        "ps = PorterStemmer()\n",
        "wordnet = WordNetLemmatizer()"
      ],
      "metadata": {
        "id": "PtWOacnB7fb8"
      },
      "execution_count": 9,
      "outputs": []
    },
    {
      "cell_type": "code",
      "source": [
        "def remove_URL(text):\n",
        "    url = re.compile(r'https?://\\S+|www\\.\\S+')\n",
        "    return url.sub(r'',text)\n",
        "  \n",
        "def remove_html(text):\n",
        "    html=re.compile(r'<.*?>')\n",
        "    return html.sub(r'',text)\n",
        "\n",
        "def remove_emoji(text):\n",
        "    emoji_pattern = re.compile(\"[\"\n",
        "                           u\"\\U0001F600-\\U0001F64F\"  # emoticons\n",
        "                           u\"\\U0001F300-\\U0001F5FF\"  # symbols & pictographs\n",
        "                           u\"\\U0001F680-\\U0001F6FF\"  # transport & map symbols\n",
        "                           u\"\\U0001F1E0-\\U0001F1FF\"  # flags (iOS)\n",
        "                           u\"\\U00002702-\\U000027B0\"\n",
        "                           u\"\\U000024C2-\\U0001F251\"\n",
        "                           \"]+\", flags=re.UNICODE)\n",
        "    return emoji_pattern.sub(r'', text)\n",
        "\n",
        "def remove_punct(text):\n",
        "    table=str.maketrans('','',string.punctuation)\n",
        "    return text.translate(table)"
      ],
      "metadata": {
        "id": "1dJDDhev9ECS"
      },
      "execution_count": 10,
      "outputs": []
    },
    {
      "cell_type": "code",
      "source": [
        "corpus = []\n",
        "for i in range(len(train)):\n",
        "    text = train['text'][i]\n",
        "    text = remove_URL(text)\n",
        "    text = remove_html(text)\n",
        "    text = remove_emoji(text)\n",
        "    text = remove_punct(text)\n",
        "    text = re.sub('[^a-zA-Z]', ' ', text)\n",
        "    text = text.lower()\n",
        "    text = text.split()\n",
        "    text = [wordnet.lemmatize(word) for word in text if word not in set(stopwords.words('english'))]\n",
        "    text = ' '.join(text)\n",
        "    corpus.append(text)"
      ],
      "metadata": {
        "id": "Pegrsa9h7jsb"
      },
      "execution_count": 11,
      "outputs": []
    },
    {
      "cell_type": "code",
      "source": [
        "corpus1 = []\n",
        "for i in range(len(test)):\n",
        "    text1 = test['text'][i]\n",
        "    text1 = remove_URL(text)\n",
        "    text1 = remove_html(text)\n",
        "    text1 = remove_emoji(text)\n",
        "    text1 = remove_punct(text)\n",
        "    text1 = re.sub('[^a-zA-Z]', ' ', text1)\n",
        "    text1 = text1.lower()\n",
        "    text1 = text1.split()\n",
        "    text1 = [wordnet.lemmatize(word) for word in text1 if word not in set(stopwords.words('english'))]\n",
        "    text1 = ' '.join(text1)\n",
        "    corpus1.append(text1)"
      ],
      "metadata": {
        "id": "KorFu2RI--3D"
      },
      "execution_count": 12,
      "outputs": []
    },
    {
      "cell_type": "markdown",
      "source": [
        "**Bag Of Words**"
      ],
      "metadata": {
        "id": "Nfv_kn7k8imy"
      }
    },
    {
      "cell_type": "code",
      "source": [
        "from sklearn.feature_extraction.text import CountVectorizer\n",
        "\n",
        "cv = CountVectorizer(max_features=2500,ngram_range=(4,4))\n",
        "X = cv.fit_transform(corpus).toarray()\n",
        "\n",
        "y = pd.get_dummies(train['target'])\n",
        "y = y.iloc[:, 1].values\n",
        "\n",
        "cv = CountVectorizer(max_features=2500,ngram_range=(4,4))\n",
        "test_x = cv.fit_transform(corpus1).toarray()"
      ],
      "metadata": {
        "id": "d1_3-efh8On-"
      },
      "execution_count": 13,
      "outputs": []
    },
    {
      "cell_type": "markdown",
      "source": [
        "**Tf-Idf**"
      ],
      "metadata": {
        "id": "8zHmGY338sIj"
      }
    },
    {
      "cell_type": "code",
      "source": [
        "from sklearn.feature_extraction.text import TfidfVectorizer\n",
        "\n",
        "cv = TfidfVectorizer(max_features=2500)\n",
        "X1 = cv.fit_transform(corpus).toarray()\n",
        "\n",
        "y1 = pd.get_dummies(train['target'])\n",
        "y1 = y1.iloc[:, 1].values\n",
        "\n",
        "cv = TfidfVectorizer(max_features=2500)\n",
        "test_x1 = cv.fit_transform(corpus1).toarray()"
      ],
      "metadata": {
        "id": "0e76DTYC8tg6"
      },
      "execution_count": 26,
      "outputs": []
    },
    {
      "cell_type": "markdown",
      "source": [
        "**Confusion matrix and accuracy**"
      ],
      "metadata": {
        "id": "RxwrM98p98Iz"
      }
    },
    {
      "cell_type": "code",
      "source": [
        "from sklearn.metrics import confusion_matrix\n",
        "from sklearn.metrics import accuracy_score\n",
        "\n",
        "def calculate(y_test,y_pred):\n",
        "  confusion_m = confusion_matrix(y_test, y_pred)\n",
        "  accuracy = accuracy_score(y_test, y_pred)\n",
        "  print(confusion_m)\n",
        "  print(accuracy)"
      ],
      "metadata": {
        "id": "O5fdTg2y9-xE"
      },
      "execution_count": 27,
      "outputs": []
    },
    {
      "cell_type": "markdown",
      "source": [
        "**Naive Bayes**"
      ],
      "metadata": {
        "id": "ui9hf4F3-D07"
      }
    },
    {
      "cell_type": "code",
      "source": [
        "from sklearn.naive_bayes import MultinomialNB\n",
        "\n",
        "spam_detect_model = MultinomialNB().fit(X1, y1)\n",
        "\n",
        "y_pred = spam_detect_model.predict(test_x1)\n",
        "y_pred"
      ],
      "metadata": {
        "colab": {
          "base_uri": "https://localhost:8080/"
        },
        "id": "sHSVPZNo-Ey7",
        "outputId": "eb9b3598-93d1-4854-f220-728908a02d18"
      },
      "execution_count": null,
      "outputs": [
        {
          "output_type": "execute_result",
          "data": {
            "text/plain": [
              "array([0, 0, 1, ..., 0, 0, 1], dtype=uint8)"
            ]
          },
          "metadata": {},
          "execution_count": 11
        }
      ]
    },
    {
      "cell_type": "markdown",
      "source": [
        "**Logistic Regression**"
      ],
      "metadata": {
        "id": "y9Ulv6XM-n-V"
      }
    },
    {
      "cell_type": "code",
      "source": [
        "from sklearn.linear_model import LogisticRegression\n",
        "\n",
        "logisticR = LogisticRegression()\n",
        "logisticR.fit(X1, y1)\n",
        "\n",
        "y_pred = logisticR.predict(test_x1)\n",
        "y_pred"
      ],
      "metadata": {
        "colab": {
          "base_uri": "https://localhost:8080/"
        },
        "id": "TNrI5SEO-pEa",
        "outputId": "e67db1a6-42b2-43e2-97f0-b07c0f4801a7"
      },
      "execution_count": null,
      "outputs": [
        {
          "output_type": "execute_result",
          "data": {
            "text/plain": [
              "array([0, 0, 0, ..., 0, 0, 1], dtype=uint8)"
            ]
          },
          "metadata": {},
          "execution_count": 12
        }
      ]
    },
    {
      "cell_type": "markdown",
      "source": [
        "**Random Forest Classifier**"
      ],
      "metadata": {
        "id": "JO7st3n9-qgN"
      }
    },
    {
      "cell_type": "code",
      "source": [
        "from sklearn.ensemble import RandomForestClassifier\n",
        "\n",
        "rfc = RandomForestClassifier()\n",
        "rfc.fit(X1, y1)\n",
        "\n",
        "y_pred = rfc.predict(test_x1)\n",
        "y_pred"
      ],
      "metadata": {
        "id": "xGII3IKM-sq8",
        "colab": {
          "base_uri": "https://localhost:8080/"
        },
        "outputId": "581fc943-4b82-49b5-ce85-415e9fa06363"
      },
      "execution_count": null,
      "outputs": [
        {
          "output_type": "execute_result",
          "data": {
            "text/plain": [
              "array([0, 0, 0, ..., 1, 0, 1], dtype=uint8)"
            ]
          },
          "metadata": {},
          "execution_count": 13
        }
      ]
    },
    {
      "cell_type": "markdown",
      "source": [
        "**Make submission file**"
      ],
      "metadata": {
        "id": "NW6rq9IzVLnD"
      }
    },
    {
      "cell_type": "code",
      "source": [
        "def convert(y_pred,name):\n",
        "  data={\"id\":test[\"id\"].tolist(),\"target\":y_pred}\n",
        "  df = pd.DataFrame(data)\n",
        "  df.to_csv(f\"{name}.csv\",index=False)"
      ],
      "metadata": {
        "id": "nfKPXBGSVM0D"
      },
      "execution_count": 28,
      "outputs": []
    },
    {
      "cell_type": "markdown",
      "source": [
        "**Word Embeddings**"
      ],
      "metadata": {
        "id": "DUhVy2Otx3tT"
      }
    },
    {
      "cell_type": "code",
      "source": [
        "from numpy import array\n",
        "from keras.preprocessing.text import one_hot\n",
        "from keras.preprocessing.sequence import pad_sequences\n",
        "from keras.models import Sequential\n",
        "from keras.layers import Dense, Flatten, Dropout, Bidirectional, SpatialDropout1D\n",
        "from keras.layers.embeddings import Embedding\n",
        "from tensorflow.keras.layers import LSTM"
      ],
      "metadata": {
        "id": "AormPkOqy1JR"
      },
      "execution_count": 14,
      "outputs": []
    },
    {
      "cell_type": "code",
      "source": [
        "a=set()\n",
        "for i in corpus:\n",
        "  for j in i.split():\n",
        "    a.add(j)\n",
        "for i in corpus1:\n",
        "  for j in i.split():\n",
        "    a.add(j)\n",
        "print(len(a))\n"
      ],
      "metadata": {
        "colab": {
          "base_uri": "https://localhost:8080/"
        },
        "id": "q3IUfLCMBlEB",
        "outputId": "012bd9e2-6a0c-44a2-ade2-393615cf914a"
      },
      "execution_count": 15,
      "outputs": [
        {
          "output_type": "stream",
          "name": "stdout",
          "text": [
            "15385\n"
          ]
        }
      ]
    },
    {
      "cell_type": "code",
      "source": [
        "vocab_size = 50000\n",
        "encoded_docs = [one_hot(d, vocab_size) for d in corpus]\n",
        "encoded_docs[:10]"
      ],
      "metadata": {
        "colab": {
          "base_uri": "https://localhost:8080/"
        },
        "id": "kf9pKCkHzXJv",
        "outputId": "5ab0b262-6e3b-4f84-e717-17a870a65f8c"
      },
      "execution_count": 16,
      "outputs": [
        {
          "output_type": "execute_result",
          "data": {
            "text/plain": [
              "[[44411, 15856, 14789, 32824, 47655, 7679, 33145],\n",
              " [34349, 35286, 25579, 30143, 33943, 39510, 47830],\n",
              " [40121, 23868, 21233, 43869, 570, 29362, 47857, 21233, 43869, 22083, 39385],\n",
              " [44062, 36260, 49589, 47857, 22083, 4475],\n",
              " [6633, 34188, 30187, 48818, 9316, 5491, 49589, 36342, 46385],\n",
              " [44371,\n",
              "  35788,\n",
              "  4475,\n",
              "  44374,\n",
              "  18185,\n",
              "  39644,\n",
              "  45448,\n",
              "  40277,\n",
              "  7584,\n",
              "  35286,\n",
              "  27505,\n",
              "  49589],\n",
              " [44059,\n",
              "  27435,\n",
              "  40965,\n",
              "  26349,\n",
              "  15011,\n",
              "  46159,\n",
              "  11882,\n",
              "  43401,\n",
              "  38348,\n",
              "  31800,\n",
              "  13594,\n",
              "  28857],\n",
              " [44012, 11911, 39458, 6128, 35286, 36774],\n",
              " [7853, 2895, 47857, 6432, 32285, 47278, 43401],\n",
              " [44012, 27791, 17048, 30121, 28857]]"
            ]
          },
          "metadata": {},
          "execution_count": 16
        }
      ]
    },
    {
      "cell_type": "code",
      "source": [
        "encoded_docs1 = [one_hot(d, vocab_size) for d in corpus1]\n",
        "encoded_docs1[:10]"
      ],
      "metadata": {
        "colab": {
          "base_uri": "https://localhost:8080/"
        },
        "id": "Zx_bVqD9Kh85",
        "outputId": "9bcd7f30-729b-42fa-9b65-8971b604348b"
      },
      "execution_count": 17,
      "outputs": [
        {
          "output_type": "execute_result",
          "data": {
            "text/plain": [
              "[[11868, 19812, 32447, 6936, 4475, 49589, 21224, 40036],\n",
              " [11868, 19812, 32447, 6936, 4475, 49589, 21224, 40036],\n",
              " [11868, 19812, 32447, 6936, 4475, 49589, 21224, 40036],\n",
              " [11868, 19812, 32447, 6936, 4475, 49589, 21224, 40036],\n",
              " [11868, 19812, 32447, 6936, 4475, 49589, 21224, 40036],\n",
              " [11868, 19812, 32447, 6936, 4475, 49589, 21224, 40036],\n",
              " [11868, 19812, 32447, 6936, 4475, 49589, 21224, 40036],\n",
              " [11868, 19812, 32447, 6936, 4475, 49589, 21224, 40036],\n",
              " [11868, 19812, 32447, 6936, 4475, 49589, 21224, 40036],\n",
              " [11868, 19812, 32447, 6936, 4475, 49589, 21224, 40036]]"
            ]
          },
          "metadata": {},
          "execution_count": 17
        }
      ]
    },
    {
      "cell_type": "code",
      "source": [
        "# pad documents to a max length\n",
        "max_length = 0\n",
        "for i in encoded_docs:\n",
        "  max_length = max(max_length,len(i))\n",
        "for i in encoded_docs1:\n",
        "  max_length = max(max_length,len(i))\n",
        "print(max_length)"
      ],
      "metadata": {
        "colab": {
          "base_uri": "https://localhost:8080/"
        },
        "id": "uDjabDU4zntH",
        "outputId": "2775a4f9-4131-4527-a15c-570c41cb4d51"
      },
      "execution_count": 18,
      "outputs": [
        {
          "output_type": "stream",
          "name": "stdout",
          "text": [
            "23\n"
          ]
        }
      ]
    },
    {
      "cell_type": "code",
      "source": [
        "max_length = 30\n",
        "padded_docs = pad_sequences(encoded_docs, maxlen=max_length, padding='pre')\n",
        "print(padded_docs)"
      ],
      "metadata": {
        "colab": {
          "base_uri": "https://localhost:8080/"
        },
        "id": "XWa0AHi-KnpC",
        "outputId": "e4ee2fb9-2404-475e-e19d-8481b03700b6"
      },
      "execution_count": 19,
      "outputs": [
        {
          "output_type": "stream",
          "name": "stdout",
          "text": [
            "[[    0     0     0 ... 47655  7679 33145]\n",
            " [    0     0     0 ... 33943 39510 47830]\n",
            " [    0     0     0 ... 43869 22083 39385]\n",
            " ...\n",
            " [    0     0     0 ... 35255 11139  3051]\n",
            " [    0     0     0 ...  7024 28887 42154]\n",
            " [    0     0     0 ... 49589 21224 40036]]\n"
          ]
        }
      ]
    },
    {
      "cell_type": "code",
      "source": [
        "padded_docs1 = pad_sequences(encoded_docs1, maxlen=max_length, padding='pre')\n",
        "print(padded_docs1)"
      ],
      "metadata": {
        "colab": {
          "base_uri": "https://localhost:8080/"
        },
        "id": "h2oPBAmnKX8f",
        "outputId": "450674ea-55ea-4c1f-da36-4b3b6726633c"
      },
      "execution_count": 20,
      "outputs": [
        {
          "output_type": "stream",
          "name": "stdout",
          "text": [
            "[[    0     0     0 ... 49589 21224 40036]\n",
            " [    0     0     0 ... 49589 21224 40036]\n",
            " [    0     0     0 ... 49589 21224 40036]\n",
            " ...\n",
            " [    0     0     0 ... 49589 21224 40036]\n",
            " [    0     0     0 ... 49589 21224 40036]\n",
            " [    0     0     0 ... 49589 21224 40036]]\n"
          ]
        }
      ]
    },
    {
      "cell_type": "code",
      "source": [
        "# define the model\n",
        "embedding_vector_features = 100\n",
        "model = Sequential()\n",
        "model.add(Embedding(vocab_size, embedding_vector_features, input_length=max_length))\n",
        "# model.add(Flatten())\n",
        "# model.add(Dropout(0.1))\n",
        "model.add(SpatialDropout1D(0.2))\n",
        "model.add(LSTM(1000, dropout=0.2, recurrent_dropout=0.2))\n",
        "# model.add(Dropout(0.1))\n",
        "model.add(Dense(1, activation='sigmoid'))\n",
        "\n",
        "# compile the model\n",
        "model.compile(optimizer='adam', loss='binary_crossentropy', metrics=['accuracy'])\n",
        "\n",
        "# summarize the model\n",
        "print(model.summary())"
      ],
      "metadata": {
        "id": "EYBrKJAq0B2X",
        "colab": {
          "base_uri": "https://localhost:8080/"
        },
        "outputId": "3af85865-3343-4863-eca4-915db53e4644"
      },
      "execution_count": 28,
      "outputs": [
        {
          "output_type": "stream",
          "name": "stdout",
          "text": [
            "Model: \"sequential_1\"\n",
            "_________________________________________________________________\n",
            " Layer (type)                Output Shape              Param #   \n",
            "=================================================================\n",
            " embedding_1 (Embedding)     (None, 30, 100)           5000000   \n",
            "                                                                 \n",
            " spatial_dropout1d_1 (Spatia  (None, 30, 100)          0         \n",
            " lDropout1D)                                                     \n",
            "                                                                 \n",
            " lstm_1 (LSTM)               (None, 1000)              4404000   \n",
            "                                                                 \n",
            " dense_1 (Dense)             (None, 1)                 1001      \n",
            "                                                                 \n",
            "=================================================================\n",
            "Total params: 9,405,001\n",
            "Trainable params: 9,405,001\n",
            "Non-trainable params: 0\n",
            "_________________________________________________________________\n",
            "None\n"
          ]
        }
      ]
    },
    {
      "cell_type": "code",
      "source": [
        "from sklearn.model_selection import train_test_split\n",
        "X_train, X_test, y_train, y_test = train_test_split(padded_docs, y, test_size=0.2)"
      ],
      "metadata": {
        "id": "4vj7tUOEWdBX"
      },
      "execution_count": 29,
      "outputs": []
    },
    {
      "cell_type": "code",
      "source": [
        "# fit the model\n",
        "# model.fit(padded_docs, y, epochs=2, verbose=1)\n",
        "\n",
        "model.fit(X_train,y_train,validation_data=(X_test,y_test),epochs=5)"
      ],
      "metadata": {
        "colab": {
          "base_uri": "https://localhost:8080/"
        },
        "id": "JXMT5miM0Sqv",
        "outputId": "a863d40f-28c7-4237-e759-1bfbc1b14693"
      },
      "execution_count": 30,
      "outputs": [
        {
          "output_type": "stream",
          "name": "stdout",
          "text": [
            "Epoch 1/5\n",
            "191/191 [==============================] - 581s 3s/step - loss: 0.5957 - accuracy: 0.6837 - val_loss: 0.4990 - val_accuracy: 0.7656\n",
            "Epoch 2/5\n",
            "191/191 [==============================] - 575s 3s/step - loss: 0.3670 - accuracy: 0.8488 - val_loss: 0.4527 - val_accuracy: 0.7879\n",
            "Epoch 3/5\n",
            "191/191 [==============================] - 570s 3s/step - loss: 0.2288 - accuracy: 0.9136 - val_loss: 0.5087 - val_accuracy: 0.7912\n",
            "Epoch 4/5\n",
            "191/191 [==============================] - 569s 3s/step - loss: 0.1449 - accuracy: 0.9478 - val_loss: 0.5923 - val_accuracy: 0.7663\n",
            "Epoch 5/5\n",
            "191/191 [==============================] - 577s 3s/step - loss: 0.0987 - accuracy: 0.9640 - val_loss: 0.6693 - val_accuracy: 0.7630\n"
          ]
        },
        {
          "output_type": "execute_result",
          "data": {
            "text/plain": [
              "<keras.callbacks.History at 0x7f24932423d0>"
            ]
          },
          "metadata": {},
          "execution_count": 30
        }
      ]
    },
    {
      "cell_type": "code",
      "source": [
        "import numpy\n",
        "y_pred=model.predict(X_test)\n",
        "final_y_pred=[]\n",
        "for i in range(len(y_pred)):\n",
        "  final_y_pred.append(int(numpy.round(y_pred[i])))\n",
        "final_y_pred[:10]"
      ],
      "metadata": {
        "colab": {
          "base_uri": "https://localhost:8080/"
        },
        "id": "I4bgHS8CUGPY",
        "outputId": "f2445721-f951-4e40-9b27-f24f3e29105c"
      },
      "execution_count": 31,
      "outputs": [
        {
          "output_type": "execute_result",
          "data": {
            "text/plain": [
              "[0, 0, 1, 0, 0, 0, 0, 0, 1, 1]"
            ]
          },
          "metadata": {},
          "execution_count": 31
        }
      ]
    },
    {
      "cell_type": "code",
      "source": [
        "from sklearn.metrics import confusion_matrix\n",
        "confusion_matrix(y_test,final_y_pred)\n"
      ],
      "metadata": {
        "colab": {
          "base_uri": "https://localhost:8080/"
        },
        "id": "7ot7QtPvTVUx",
        "outputId": "c97fbe38-0036-4776-c978-81d47ce679e2"
      },
      "execution_count": 32,
      "outputs": [
        {
          "output_type": "execute_result",
          "data": {
            "text/plain": [
              "array([[698, 173],\n",
              "       [188, 464]])"
            ]
          },
          "metadata": {},
          "execution_count": 32
        }
      ]
    },
    {
      "cell_type": "code",
      "source": [
        "from sklearn.metrics import accuracy_score\n",
        "accuracy_score(y_test,final_y_pred)"
      ],
      "metadata": {
        "colab": {
          "base_uri": "https://localhost:8080/"
        },
        "id": "y1rrjDiLTYqn",
        "outputId": "a2553e14-b51e-4d0e-95a4-127ddde5bafb"
      },
      "execution_count": 33,
      "outputs": [
        {
          "output_type": "execute_result",
          "data": {
            "text/plain": [
              "0.762967826657912"
            ]
          },
          "metadata": {},
          "execution_count": 33
        }
      ]
    },
    {
      "cell_type": "code",
      "source": [
        "from sklearn.metrics import classification_report\n",
        "print(classification_report(y_test,final_y_pred))"
      ],
      "metadata": {
        "colab": {
          "base_uri": "https://localhost:8080/"
        },
        "id": "35wh51UKB853",
        "outputId": "6fa95eef-c90f-40f2-8b61-1f1c9ffc40a9"
      },
      "execution_count": 34,
      "outputs": [
        {
          "output_type": "stream",
          "name": "stdout",
          "text": [
            "              precision    recall  f1-score   support\n",
            "\n",
            "           0       0.79      0.80      0.79       871\n",
            "           1       0.73      0.71      0.72       652\n",
            "\n",
            "    accuracy                           0.76      1523\n",
            "   macro avg       0.76      0.76      0.76      1523\n",
            "weighted avg       0.76      0.76      0.76      1523\n",
            "\n"
          ]
        }
      ]
    },
    {
      "cell_type": "code",
      "source": [
        "# evaluate the model\n",
        "loss, accuracy = model.evaluate(padded_docs, y, verbose=0)\n",
        "print('Accuracy: %f' % (accuracy*100))"
      ],
      "metadata": {
        "colab": {
          "base_uri": "https://localhost:8080/"
        },
        "id": "2XCYkG-D0UK5",
        "outputId": "e30f5335-810f-4036-9def-a543c5dbdcb4"
      },
      "execution_count": 35,
      "outputs": [
        {
          "output_type": "stream",
          "name": "stdout",
          "text": [
            "Accuracy: 93.550503\n"
          ]
        }
      ]
    },
    {
      "cell_type": "code",
      "source": [
        "ans = model.predict(padded_docs1)\n",
        "ans"
      ],
      "metadata": {
        "colab": {
          "base_uri": "https://localhost:8080/"
        },
        "id": "5uy5Jb8I5Pyt",
        "outputId": "33ea9ac8-548c-49eb-e465-b01139988887"
      },
      "execution_count": 36,
      "outputs": [
        {
          "output_type": "execute_result",
          "data": {
            "text/plain": [
              "array([[0.9994863],\n",
              "       [0.9994863],\n",
              "       [0.9994863],\n",
              "       ...,\n",
              "       [0.9994863],\n",
              "       [0.9994863],\n",
              "       [0.9994863]], dtype=float32)"
            ]
          },
          "metadata": {},
          "execution_count": 36
        }
      ]
    },
    {
      "cell_type": "code",
      "source": [
        "print(min(ans),max(ans))"
      ],
      "metadata": {
        "colab": {
          "base_uri": "https://localhost:8080/"
        },
        "id": "K50bUdVB-FDU",
        "outputId": "3fbbdda1-5da5-4ff6-a320-35cb13e40101"
      },
      "execution_count": 37,
      "outputs": [
        {
          "output_type": "stream",
          "name": "stdout",
          "text": [
            "[0.9994863] [0.9994863]\n"
          ]
        }
      ]
    },
    {
      "cell_type": "code",
      "source": [
        "import numpy\n",
        "final=[]\n",
        "for i in range(len(ans)):\n",
        "  final.append(int(numpy.round(ans[i])))\n",
        "final[:10]"
      ],
      "metadata": {
        "id": "Mu0w4Jo45kTc",
        "colab": {
          "base_uri": "https://localhost:8080/"
        },
        "outputId": "132b868e-b28e-45a2-b651-38b2be2de5dc"
      },
      "execution_count": 38,
      "outputs": [
        {
          "output_type": "execute_result",
          "data": {
            "text/plain": [
              "[1, 1, 1, 1, 1, 1, 1, 1, 1, 1]"
            ]
          },
          "metadata": {},
          "execution_count": 38
        }
      ]
    },
    {
      "cell_type": "code",
      "source": [
        "convert(final,\"sub26\")"
      ],
      "metadata": {
        "id": "GainBmdQ6H5W"
      },
      "execution_count": 62,
      "outputs": []
    }
  ]
}