{
  "nbformat": 4,
  "nbformat_minor": 0,
  "metadata": {
    "colab": {
      "name": "NLP_Disaster_Tweets.ipynb",
      "provenance": [],
      "authorship_tag": "ABX9TyOnaESR4v7JTw9P7RP0WfXf",
      "include_colab_link": true
    },
    "kernelspec": {
      "name": "python3",
      "display_name": "Python 3"
    },
    "language_info": {
      "name": "python"
    }
  },
  "cells": [
    {
      "cell_type": "markdown",
      "metadata": {
        "id": "view-in-github",
        "colab_type": "text"
      },
      "source": [
        "<a href=\"https://colab.research.google.com/github/tanmayb104/NLP-with-Disaster-Tweets/blob/main/NLP_Disaster_Tweets.ipynb\" target=\"_parent\"><img src=\"https://colab.research.google.com/assets/colab-badge.svg\" alt=\"Open In Colab\"/></a>"
      ]
    },
    {
      "cell_type": "code",
      "execution_count": 1,
      "metadata": {
        "id": "uFs2yiWg5tG6"
      },
      "outputs": [],
      "source": [
        "import pandas as pd\n",
        "import nltk\n",
        "import re\n",
        "from nltk.corpus import stopwords\n",
        "from nltk.stem import PorterStemmer\n",
        "from nltk.stem import WordNetLemmatizer"
      ]
    },
    {
      "cell_type": "code",
      "source": [
        "nltk.download('stopwords')\n",
        "nltk.download('wordnet')"
      ],
      "metadata": {
        "colab": {
          "base_uri": "https://localhost:8080/"
        },
        "id": "HLwaXGvG65Rc",
        "outputId": "76079182-23b3-4945-c3c8-dff5e458547e"
      },
      "execution_count": 2,
      "outputs": [
        {
          "output_type": "stream",
          "name": "stdout",
          "text": [
            "[nltk_data] Downloading package stopwords to /root/nltk_data...\n",
            "[nltk_data]   Package stopwords is already up-to-date!\n",
            "[nltk_data] Downloading package wordnet to /root/nltk_data...\n",
            "[nltk_data]   Package wordnet is already up-to-date!\n"
          ]
        },
        {
          "output_type": "execute_result",
          "data": {
            "text/plain": [
              "True"
            ]
          },
          "metadata": {},
          "execution_count": 2
        }
      ]
    },
    {
      "cell_type": "markdown",
      "source": [
        "**Read Dataset**"
      ],
      "metadata": {
        "id": "-uNZ38uS8ZkL"
      }
    },
    {
      "cell_type": "code",
      "source": [
        "train = pd.read_csv('sample_data/train.csv')\n",
        "train.head()"
      ],
      "metadata": {
        "colab": {
          "base_uri": "https://localhost:8080/",
          "height": 206
        },
        "id": "ADA4nztF67EM",
        "outputId": "a1f52328-617c-4e6f-8947-d4aee7ccf191"
      },
      "execution_count": 3,
      "outputs": [
        {
          "output_type": "execute_result",
          "data": {
            "text/html": [
              "\n",
              "  <div id=\"df-b6bd343d-e270-4819-86e0-78ef236ad377\">\n",
              "    <div class=\"colab-df-container\">\n",
              "      <div>\n",
              "<style scoped>\n",
              "    .dataframe tbody tr th:only-of-type {\n",
              "        vertical-align: middle;\n",
              "    }\n",
              "\n",
              "    .dataframe tbody tr th {\n",
              "        vertical-align: top;\n",
              "    }\n",
              "\n",
              "    .dataframe thead th {\n",
              "        text-align: right;\n",
              "    }\n",
              "</style>\n",
              "<table border=\"1\" class=\"dataframe\">\n",
              "  <thead>\n",
              "    <tr style=\"text-align: right;\">\n",
              "      <th></th>\n",
              "      <th>id</th>\n",
              "      <th>keyword</th>\n",
              "      <th>location</th>\n",
              "      <th>text</th>\n",
              "      <th>target</th>\n",
              "    </tr>\n",
              "  </thead>\n",
              "  <tbody>\n",
              "    <tr>\n",
              "      <th>0</th>\n",
              "      <td>1</td>\n",
              "      <td>NaN</td>\n",
              "      <td>NaN</td>\n",
              "      <td>Our Deeds are the Reason of this #earthquake M...</td>\n",
              "      <td>1</td>\n",
              "    </tr>\n",
              "    <tr>\n",
              "      <th>1</th>\n",
              "      <td>4</td>\n",
              "      <td>NaN</td>\n",
              "      <td>NaN</td>\n",
              "      <td>Forest fire near La Ronge Sask. Canada</td>\n",
              "      <td>1</td>\n",
              "    </tr>\n",
              "    <tr>\n",
              "      <th>2</th>\n",
              "      <td>5</td>\n",
              "      <td>NaN</td>\n",
              "      <td>NaN</td>\n",
              "      <td>All residents asked to 'shelter in place' are ...</td>\n",
              "      <td>1</td>\n",
              "    </tr>\n",
              "    <tr>\n",
              "      <th>3</th>\n",
              "      <td>6</td>\n",
              "      <td>NaN</td>\n",
              "      <td>NaN</td>\n",
              "      <td>13,000 people receive #wildfires evacuation or...</td>\n",
              "      <td>1</td>\n",
              "    </tr>\n",
              "    <tr>\n",
              "      <th>4</th>\n",
              "      <td>7</td>\n",
              "      <td>NaN</td>\n",
              "      <td>NaN</td>\n",
              "      <td>Just got sent this photo from Ruby #Alaska as ...</td>\n",
              "      <td>1</td>\n",
              "    </tr>\n",
              "  </tbody>\n",
              "</table>\n",
              "</div>\n",
              "      <button class=\"colab-df-convert\" onclick=\"convertToInteractive('df-b6bd343d-e270-4819-86e0-78ef236ad377')\"\n",
              "              title=\"Convert this dataframe to an interactive table.\"\n",
              "              style=\"display:none;\">\n",
              "        \n",
              "  <svg xmlns=\"http://www.w3.org/2000/svg\" height=\"24px\"viewBox=\"0 0 24 24\"\n",
              "       width=\"24px\">\n",
              "    <path d=\"M0 0h24v24H0V0z\" fill=\"none\"/>\n",
              "    <path d=\"M18.56 5.44l.94 2.06.94-2.06 2.06-.94-2.06-.94-.94-2.06-.94 2.06-2.06.94zm-11 1L8.5 8.5l.94-2.06 2.06-.94-2.06-.94L8.5 2.5l-.94 2.06-2.06.94zm10 10l.94 2.06.94-2.06 2.06-.94-2.06-.94-.94-2.06-.94 2.06-2.06.94z\"/><path d=\"M17.41 7.96l-1.37-1.37c-.4-.4-.92-.59-1.43-.59-.52 0-1.04.2-1.43.59L10.3 9.45l-7.72 7.72c-.78.78-.78 2.05 0 2.83L4 21.41c.39.39.9.59 1.41.59.51 0 1.02-.2 1.41-.59l7.78-7.78 2.81-2.81c.8-.78.8-2.07 0-2.86zM5.41 20L4 18.59l7.72-7.72 1.47 1.35L5.41 20z\"/>\n",
              "  </svg>\n",
              "      </button>\n",
              "      \n",
              "  <style>\n",
              "    .colab-df-container {\n",
              "      display:flex;\n",
              "      flex-wrap:wrap;\n",
              "      gap: 12px;\n",
              "    }\n",
              "\n",
              "    .colab-df-convert {\n",
              "      background-color: #E8F0FE;\n",
              "      border: none;\n",
              "      border-radius: 50%;\n",
              "      cursor: pointer;\n",
              "      display: none;\n",
              "      fill: #1967D2;\n",
              "      height: 32px;\n",
              "      padding: 0 0 0 0;\n",
              "      width: 32px;\n",
              "    }\n",
              "\n",
              "    .colab-df-convert:hover {\n",
              "      background-color: #E2EBFA;\n",
              "      box-shadow: 0px 1px 2px rgba(60, 64, 67, 0.3), 0px 1px 3px 1px rgba(60, 64, 67, 0.15);\n",
              "      fill: #174EA6;\n",
              "    }\n",
              "\n",
              "    [theme=dark] .colab-df-convert {\n",
              "      background-color: #3B4455;\n",
              "      fill: #D2E3FC;\n",
              "    }\n",
              "\n",
              "    [theme=dark] .colab-df-convert:hover {\n",
              "      background-color: #434B5C;\n",
              "      box-shadow: 0px 1px 3px 1px rgba(0, 0, 0, 0.15);\n",
              "      filter: drop-shadow(0px 1px 2px rgba(0, 0, 0, 0.3));\n",
              "      fill: #FFFFFF;\n",
              "    }\n",
              "  </style>\n",
              "\n",
              "      <script>\n",
              "        const buttonEl =\n",
              "          document.querySelector('#df-b6bd343d-e270-4819-86e0-78ef236ad377 button.colab-df-convert');\n",
              "        buttonEl.style.display =\n",
              "          google.colab.kernel.accessAllowed ? 'block' : 'none';\n",
              "\n",
              "        async function convertToInteractive(key) {\n",
              "          const element = document.querySelector('#df-b6bd343d-e270-4819-86e0-78ef236ad377');\n",
              "          const dataTable =\n",
              "            await google.colab.kernel.invokeFunction('convertToInteractive',\n",
              "                                                     [key], {});\n",
              "          if (!dataTable) return;\n",
              "\n",
              "          const docLinkHtml = 'Like what you see? Visit the ' +\n",
              "            '<a target=\"_blank\" href=https://colab.research.google.com/notebooks/data_table.ipynb>data table notebook</a>'\n",
              "            + ' to learn more about interactive tables.';\n",
              "          element.innerHTML = '';\n",
              "          dataTable['output_type'] = 'display_data';\n",
              "          await google.colab.output.renderOutput(dataTable, element);\n",
              "          const docLink = document.createElement('div');\n",
              "          docLink.innerHTML = docLinkHtml;\n",
              "          element.appendChild(docLink);\n",
              "        }\n",
              "      </script>\n",
              "    </div>\n",
              "  </div>\n",
              "  "
            ],
            "text/plain": [
              "   id keyword  ...                                               text target\n",
              "0   1     NaN  ...  Our Deeds are the Reason of this #earthquake M...      1\n",
              "1   4     NaN  ...             Forest fire near La Ronge Sask. Canada      1\n",
              "2   5     NaN  ...  All residents asked to 'shelter in place' are ...      1\n",
              "3   6     NaN  ...  13,000 people receive #wildfires evacuation or...      1\n",
              "4   7     NaN  ...  Just got sent this photo from Ruby #Alaska as ...      1\n",
              "\n",
              "[5 rows x 5 columns]"
            ]
          },
          "metadata": {},
          "execution_count": 3
        }
      ]
    },
    {
      "cell_type": "code",
      "source": [
        "test = pd.read_csv('sample_data/test.csv')\n",
        "test.head()"
      ],
      "metadata": {
        "colab": {
          "base_uri": "https://localhost:8080/",
          "height": 206
        },
        "id": "ek01cunB7Nqk",
        "outputId": "0f901dc2-3b05-492b-d077-f91de0859167"
      },
      "execution_count": 4,
      "outputs": [
        {
          "output_type": "execute_result",
          "data": {
            "text/html": [
              "\n",
              "  <div id=\"df-400ebaad-7be5-4b1c-997e-226b9cffa907\">\n",
              "    <div class=\"colab-df-container\">\n",
              "      <div>\n",
              "<style scoped>\n",
              "    .dataframe tbody tr th:only-of-type {\n",
              "        vertical-align: middle;\n",
              "    }\n",
              "\n",
              "    .dataframe tbody tr th {\n",
              "        vertical-align: top;\n",
              "    }\n",
              "\n",
              "    .dataframe thead th {\n",
              "        text-align: right;\n",
              "    }\n",
              "</style>\n",
              "<table border=\"1\" class=\"dataframe\">\n",
              "  <thead>\n",
              "    <tr style=\"text-align: right;\">\n",
              "      <th></th>\n",
              "      <th>id</th>\n",
              "      <th>keyword</th>\n",
              "      <th>location</th>\n",
              "      <th>text</th>\n",
              "    </tr>\n",
              "  </thead>\n",
              "  <tbody>\n",
              "    <tr>\n",
              "      <th>0</th>\n",
              "      <td>0</td>\n",
              "      <td>NaN</td>\n",
              "      <td>NaN</td>\n",
              "      <td>Just happened a terrible car crash</td>\n",
              "    </tr>\n",
              "    <tr>\n",
              "      <th>1</th>\n",
              "      <td>2</td>\n",
              "      <td>NaN</td>\n",
              "      <td>NaN</td>\n",
              "      <td>Heard about #earthquake is different cities, s...</td>\n",
              "    </tr>\n",
              "    <tr>\n",
              "      <th>2</th>\n",
              "      <td>3</td>\n",
              "      <td>NaN</td>\n",
              "      <td>NaN</td>\n",
              "      <td>there is a forest fire at spot pond, geese are...</td>\n",
              "    </tr>\n",
              "    <tr>\n",
              "      <th>3</th>\n",
              "      <td>9</td>\n",
              "      <td>NaN</td>\n",
              "      <td>NaN</td>\n",
              "      <td>Apocalypse lighting. #Spokane #wildfires</td>\n",
              "    </tr>\n",
              "    <tr>\n",
              "      <th>4</th>\n",
              "      <td>11</td>\n",
              "      <td>NaN</td>\n",
              "      <td>NaN</td>\n",
              "      <td>Typhoon Soudelor kills 28 in China and Taiwan</td>\n",
              "    </tr>\n",
              "  </tbody>\n",
              "</table>\n",
              "</div>\n",
              "      <button class=\"colab-df-convert\" onclick=\"convertToInteractive('df-400ebaad-7be5-4b1c-997e-226b9cffa907')\"\n",
              "              title=\"Convert this dataframe to an interactive table.\"\n",
              "              style=\"display:none;\">\n",
              "        \n",
              "  <svg xmlns=\"http://www.w3.org/2000/svg\" height=\"24px\"viewBox=\"0 0 24 24\"\n",
              "       width=\"24px\">\n",
              "    <path d=\"M0 0h24v24H0V0z\" fill=\"none\"/>\n",
              "    <path d=\"M18.56 5.44l.94 2.06.94-2.06 2.06-.94-2.06-.94-.94-2.06-.94 2.06-2.06.94zm-11 1L8.5 8.5l.94-2.06 2.06-.94-2.06-.94L8.5 2.5l-.94 2.06-2.06.94zm10 10l.94 2.06.94-2.06 2.06-.94-2.06-.94-.94-2.06-.94 2.06-2.06.94z\"/><path d=\"M17.41 7.96l-1.37-1.37c-.4-.4-.92-.59-1.43-.59-.52 0-1.04.2-1.43.59L10.3 9.45l-7.72 7.72c-.78.78-.78 2.05 0 2.83L4 21.41c.39.39.9.59 1.41.59.51 0 1.02-.2 1.41-.59l7.78-7.78 2.81-2.81c.8-.78.8-2.07 0-2.86zM5.41 20L4 18.59l7.72-7.72 1.47 1.35L5.41 20z\"/>\n",
              "  </svg>\n",
              "      </button>\n",
              "      \n",
              "  <style>\n",
              "    .colab-df-container {\n",
              "      display:flex;\n",
              "      flex-wrap:wrap;\n",
              "      gap: 12px;\n",
              "    }\n",
              "\n",
              "    .colab-df-convert {\n",
              "      background-color: #E8F0FE;\n",
              "      border: none;\n",
              "      border-radius: 50%;\n",
              "      cursor: pointer;\n",
              "      display: none;\n",
              "      fill: #1967D2;\n",
              "      height: 32px;\n",
              "      padding: 0 0 0 0;\n",
              "      width: 32px;\n",
              "    }\n",
              "\n",
              "    .colab-df-convert:hover {\n",
              "      background-color: #E2EBFA;\n",
              "      box-shadow: 0px 1px 2px rgba(60, 64, 67, 0.3), 0px 1px 3px 1px rgba(60, 64, 67, 0.15);\n",
              "      fill: #174EA6;\n",
              "    }\n",
              "\n",
              "    [theme=dark] .colab-df-convert {\n",
              "      background-color: #3B4455;\n",
              "      fill: #D2E3FC;\n",
              "    }\n",
              "\n",
              "    [theme=dark] .colab-df-convert:hover {\n",
              "      background-color: #434B5C;\n",
              "      box-shadow: 0px 1px 3px 1px rgba(0, 0, 0, 0.15);\n",
              "      filter: drop-shadow(0px 1px 2px rgba(0, 0, 0, 0.3));\n",
              "      fill: #FFFFFF;\n",
              "    }\n",
              "  </style>\n",
              "\n",
              "      <script>\n",
              "        const buttonEl =\n",
              "          document.querySelector('#df-400ebaad-7be5-4b1c-997e-226b9cffa907 button.colab-df-convert');\n",
              "        buttonEl.style.display =\n",
              "          google.colab.kernel.accessAllowed ? 'block' : 'none';\n",
              "\n",
              "        async function convertToInteractive(key) {\n",
              "          const element = document.querySelector('#df-400ebaad-7be5-4b1c-997e-226b9cffa907');\n",
              "          const dataTable =\n",
              "            await google.colab.kernel.invokeFunction('convertToInteractive',\n",
              "                                                     [key], {});\n",
              "          if (!dataTable) return;\n",
              "\n",
              "          const docLinkHtml = 'Like what you see? Visit the ' +\n",
              "            '<a target=\"_blank\" href=https://colab.research.google.com/notebooks/data_table.ipynb>data table notebook</a>'\n",
              "            + ' to learn more about interactive tables.';\n",
              "          element.innerHTML = '';\n",
              "          dataTable['output_type'] = 'display_data';\n",
              "          await google.colab.output.renderOutput(dataTable, element);\n",
              "          const docLink = document.createElement('div');\n",
              "          docLink.innerHTML = docLinkHtml;\n",
              "          element.appendChild(docLink);\n",
              "        }\n",
              "      </script>\n",
              "    </div>\n",
              "  </div>\n",
              "  "
            ],
            "text/plain": [
              "   id keyword location                                               text\n",
              "0   0     NaN      NaN                 Just happened a terrible car crash\n",
              "1   2     NaN      NaN  Heard about #earthquake is different cities, s...\n",
              "2   3     NaN      NaN  there is a forest fire at spot pond, geese are...\n",
              "3   9     NaN      NaN           Apocalypse lighting. #Spokane #wildfires\n",
              "4  11     NaN      NaN      Typhoon Soudelor kills 28 in China and Taiwan"
            ]
          },
          "metadata": {},
          "execution_count": 4
        }
      ]
    },
    {
      "cell_type": "markdown",
      "source": [
        "**Clean the dataset**"
      ],
      "metadata": {
        "id": "I9moa4Kx8fQi"
      }
    },
    {
      "cell_type": "code",
      "source": [
        "ps = PorterStemmer()\n",
        "wordnet = WordNetLemmatizer()"
      ],
      "metadata": {
        "id": "PtWOacnB7fb8"
      },
      "execution_count": 5,
      "outputs": []
    },
    {
      "cell_type": "code",
      "source": [
        "corpus = []\n",
        "for i in range(len(train)):\n",
        "    text = re.sub('[^a-zA-Z]', ' ', train['text'][i])\n",
        "    text = text.lower()\n",
        "    text = text.split()\n",
        "    text = [wordnet.lemmatize(word) for word in text if word not in set(stopwords.words('english'))]\n",
        "    text = ' '.join(text)\n",
        "    corpus.append(text)"
      ],
      "metadata": {
        "id": "Pegrsa9h7jsb"
      },
      "execution_count": 6,
      "outputs": []
    },
    {
      "cell_type": "code",
      "source": [
        "corpus1 = []\n",
        "for i in range(len(test)):\n",
        "    text1 = re.sub('[^a-zA-Z]', ' ', test['text'][i])\n",
        "    text1 = text1.lower()\n",
        "    text1 = text1.split()\n",
        "    text1 = [wordnet.lemmatize(word) for word in text1 if word not in set(stopwords.words('english'))]\n",
        "    text1 = ' '.join(text1)\n",
        "    corpus1.append(text1)"
      ],
      "metadata": {
        "id": "KorFu2RI--3D"
      },
      "execution_count": 7,
      "outputs": []
    },
    {
      "cell_type": "markdown",
      "source": [
        "**Bag Of Words**"
      ],
      "metadata": {
        "id": "Nfv_kn7k8imy"
      }
    },
    {
      "cell_type": "code",
      "source": [
        "from sklearn.feature_extraction.text import CountVectorizer\n",
        "\n",
        "cv = CountVectorizer(max_features=2500)\n",
        "X = cv.fit_transform(corpus).toarray()\n",
        "\n",
        "y = pd.get_dummies(train['target'])\n",
        "y = y.iloc[:, 1].values\n",
        "\n",
        "cv = CountVectorizer(max_features=2500)\n",
        "test_x = cv.fit_transform(corpus1).toarray()"
      ],
      "metadata": {
        "id": "d1_3-efh8On-"
      },
      "execution_count": 20,
      "outputs": []
    },
    {
      "cell_type": "markdown",
      "source": [
        "**Tf-Idf**"
      ],
      "metadata": {
        "id": "8zHmGY338sIj"
      }
    },
    {
      "cell_type": "code",
      "source": [
        "from sklearn.feature_extraction.text import TfidfVectorizer\n",
        "\n",
        "cv = TfidfVectorizer(max_features=2500)\n",
        "X1 = cv.fit_transform(corpus).toarray()\n",
        "\n",
        "y1 = pd.get_dummies(train['target'])\n",
        "y1 = y1.iloc[:, 1].values\n",
        "\n",
        "cv = TfidfVectorizer(max_features=2500)\n",
        "test_x1 = cv.fit_transform(corpus1).toarray()"
      ],
      "metadata": {
        "id": "0e76DTYC8tg6"
      },
      "execution_count": 21,
      "outputs": []
    },
    {
      "cell_type": "markdown",
      "source": [
        "**Confusion matrix and accuracy**"
      ],
      "metadata": {
        "id": "RxwrM98p98Iz"
      }
    },
    {
      "cell_type": "code",
      "source": [
        "from sklearn.metrics import confusion_matrix\n",
        "from sklearn.metrics import accuracy_score\n",
        "\n",
        "def calculate(y_test,y_pred):\n",
        "  confusion_m = confusion_matrix(y_test, y_pred)\n",
        "  accuracy = accuracy_score(y_test, y_pred)\n",
        "  print(confusion_m)\n",
        "  print(accuracy)"
      ],
      "metadata": {
        "id": "O5fdTg2y9-xE"
      },
      "execution_count": 10,
      "outputs": []
    },
    {
      "cell_type": "markdown",
      "source": [
        "**Naive Bayes**"
      ],
      "metadata": {
        "id": "ui9hf4F3-D07"
      }
    },
    {
      "cell_type": "code",
      "source": [
        "from sklearn.naive_bayes import MultinomialNB\n",
        "\n",
        "spam_detect_model = MultinomialNB().fit(X1, y1)\n",
        "\n",
        "y_pred = spam_detect_model.predict(test_x1)\n",
        "y_pred"
      ],
      "metadata": {
        "colab": {
          "base_uri": "https://localhost:8080/"
        },
        "id": "sHSVPZNo-Ey7",
        "outputId": "eb9b3598-93d1-4854-f220-728908a02d18"
      },
      "execution_count": 11,
      "outputs": [
        {
          "output_type": "execute_result",
          "data": {
            "text/plain": [
              "array([0, 0, 1, ..., 0, 0, 1], dtype=uint8)"
            ]
          },
          "metadata": {},
          "execution_count": 11
        }
      ]
    },
    {
      "cell_type": "markdown",
      "source": [
        "**Logistic Regression**"
      ],
      "metadata": {
        "id": "y9Ulv6XM-n-V"
      }
    },
    {
      "cell_type": "code",
      "source": [
        "from sklearn.linear_model import LogisticRegression\n",
        "\n",
        "logisticR = LogisticRegression()\n",
        "logisticR.fit(X1, y1)\n",
        "\n",
        "y_pred = logisticR.predict(test_x1)\n",
        "y_pred"
      ],
      "metadata": {
        "colab": {
          "base_uri": "https://localhost:8080/"
        },
        "id": "TNrI5SEO-pEa",
        "outputId": "e67db1a6-42b2-43e2-97f0-b07c0f4801a7"
      },
      "execution_count": 12,
      "outputs": [
        {
          "output_type": "execute_result",
          "data": {
            "text/plain": [
              "array([0, 0, 0, ..., 0, 0, 1], dtype=uint8)"
            ]
          },
          "metadata": {},
          "execution_count": 12
        }
      ]
    },
    {
      "cell_type": "markdown",
      "source": [
        "**Random Forest Classifier**"
      ],
      "metadata": {
        "id": "JO7st3n9-qgN"
      }
    },
    {
      "cell_type": "code",
      "source": [
        "from sklearn.ensemble import RandomForestClassifier\n",
        "\n",
        "rfc = RandomForestClassifier()\n",
        "rfc.fit(X1, y1)\n",
        "\n",
        "y_pred = rfc.predict(test_x1)\n",
        "y_pred"
      ],
      "metadata": {
        "id": "xGII3IKM-sq8",
        "colab": {
          "base_uri": "https://localhost:8080/"
        },
        "outputId": "581fc943-4b82-49b5-ce85-415e9fa06363"
      },
      "execution_count": 13,
      "outputs": [
        {
          "output_type": "execute_result",
          "data": {
            "text/plain": [
              "array([0, 0, 0, ..., 1, 0, 1], dtype=uint8)"
            ]
          },
          "metadata": {},
          "execution_count": 13
        }
      ]
    },
    {
      "cell_type": "markdown",
      "source": [
        "**Make submission file**"
      ],
      "metadata": {
        "id": "NW6rq9IzVLnD"
      }
    },
    {
      "cell_type": "code",
      "source": [
        "def convert(y_pred,name):\n",
        "  data={\"id\":test[\"id\"].tolist(),\"target\":y_pred}\n",
        "  df = pd.DataFrame(data)\n",
        "  df.to_csv(f\"{name}.csv\",index=False)"
      ],
      "metadata": {
        "id": "nfKPXBGSVM0D"
      },
      "execution_count": 8,
      "outputs": []
    },
    {
      "cell_type": "markdown",
      "source": [
        "**Word Embeddings**"
      ],
      "metadata": {
        "id": "DUhVy2Otx3tT"
      }
    },
    {
      "cell_type": "code",
      "source": [
        "from numpy import array\n",
        "from keras.preprocessing.text import one_hot\n",
        "from keras.preprocessing.sequence import pad_sequences\n",
        "from keras.models import Sequential\n",
        "from keras.layers import Dense,Flatten, Dropout\n",
        "from keras.layers.embeddings import Embedding\n",
        "from tensorflow.keras.layers import LSTM"
      ],
      "metadata": {
        "id": "AormPkOqy1JR"
      },
      "execution_count": 9,
      "outputs": []
    },
    {
      "cell_type": "code",
      "source": [
        "a=set()\n",
        "for i in corpus:\n",
        "  for j in i.split():\n",
        "    a.add(j)\n",
        "for i in corpus1:\n",
        "  for j in i.split():\n",
        "    a.add(j)\n",
        "print(len(a))\n"
      ],
      "metadata": {
        "colab": {
          "base_uri": "https://localhost:8080/"
        },
        "id": "q3IUfLCMBlEB",
        "outputId": "11961335-bd78-4864-c174-dab4946cdc00"
      },
      "execution_count": 10,
      "outputs": [
        {
          "output_type": "stream",
          "name": "stdout",
          "text": [
            "26781\n"
          ]
        }
      ]
    },
    {
      "cell_type": "code",
      "source": [
        "vocab_size = 50000\n",
        "encoded_docs = [one_hot(d, vocab_size) for d in corpus]\n",
        "encoded_docs[:10]"
      ],
      "metadata": {
        "colab": {
          "base_uri": "https://localhost:8080/"
        },
        "id": "kf9pKCkHzXJv",
        "outputId": "fc9304f9-1b87-446e-88ac-0207653da124"
      },
      "execution_count": 48,
      "outputs": [
        {
          "output_type": "execute_result",
          "data": {
            "text/plain": [
              "[[1135, 21626, 25992, 30391, 40535, 23548, 29727],\n",
              " [37774, 7548, 12355, 40416, 34239, 41716, 9840],\n",
              " [28524, 5213, 39232, 37049, 42941, 3613, 13597, 39232, 37049, 21509, 45728],\n",
              " [45106, 31246, 30083, 13597, 21509, 10646],\n",
              " [34060, 33721, 26148, 27762, 17932, 7731, 30083, 3549, 49448],\n",
              " [24753,\n",
              "  5353,\n",
              "  10646,\n",
              "  44718,\n",
              "  26202,\n",
              "  16252,\n",
              "  44618,\n",
              "  44256,\n",
              "  43211,\n",
              "  7548,\n",
              "  21753,\n",
              "  30083],\n",
              " [46731,\n",
              "  44289,\n",
              "  45611,\n",
              "  2718,\n",
              "  6196,\n",
              "  37611,\n",
              "  13070,\n",
              "  34028,\n",
              "  4694,\n",
              "  18773,\n",
              "  19410,\n",
              "  35876],\n",
              " [47270, 12122, 33917, 7548, 32322],\n",
              " [32582, 13597, 26714, 38212, 15185, 34028],\n",
              " [5642, 15845, 8507, 35876]]"
            ]
          },
          "metadata": {},
          "execution_count": 48
        }
      ]
    },
    {
      "cell_type": "code",
      "source": [
        "encoded_docs1 = [one_hot(d, vocab_size) for d in corpus1]\n",
        "encoded_docs1[:10]"
      ],
      "metadata": {
        "colab": {
          "base_uri": "https://localhost:8080/"
        },
        "id": "Zx_bVqD9Kh85",
        "outputId": "4d468543-adde-4abb-913f-053feeaacec5"
      },
      "execution_count": 49,
      "outputs": [
        {
          "output_type": "execute_result",
          "data": {
            "text/plain": [
              "[[9886, 43416, 15150, 5701],\n",
              " [25292, 25992, 48716, 30354, 24618, 21470, 40125],\n",
              " [37774, 7548, 26558, 28348, 40068, 26037, 15185, 34028, 42047, 3909],\n",
              " [49165, 8021, 5572, 30083],\n",
              " [22982, 37778, 27680, 38965, 7506],\n",
              " [34588, 25992],\n",
              " [11975, 6051, 15926, 24482, 48861, 14419, 49336, 49336],\n",
              " [14489],\n",
              " [23624, 41604],\n",
              " [35742]]"
            ]
          },
          "metadata": {},
          "execution_count": 49
        }
      ]
    },
    {
      "cell_type": "code",
      "source": [
        "# pad documents to a max length\n",
        "max_length = 0\n",
        "for i in encoded_docs:\n",
        "  max_length = max(max_length,len(i))\n",
        "for i in encoded_docs1:\n",
        "  max_length = max(max_length,len(i))\n",
        "print(max_length)"
      ],
      "metadata": {
        "colab": {
          "base_uri": "https://localhost:8080/"
        },
        "id": "uDjabDU4zntH",
        "outputId": "39116d2f-b83e-4631-c64f-003ec2c2670d"
      },
      "execution_count": 15,
      "outputs": [
        {
          "output_type": "stream",
          "name": "stdout",
          "text": [
            "27\n"
          ]
        }
      ]
    },
    {
      "cell_type": "code",
      "source": [
        "max_length = 30\n",
        "padded_docs = pad_sequences(encoded_docs, maxlen=max_length, padding='post')\n",
        "print(padded_docs)"
      ],
      "metadata": {
        "colab": {
          "base_uri": "https://localhost:8080/"
        },
        "id": "XWa0AHi-KnpC",
        "outputId": "ac7cfd4c-4104-43fc-ff36-1082d66a7032"
      },
      "execution_count": 38,
      "outputs": [
        {
          "output_type": "stream",
          "name": "stdout",
          "text": [
            "[[ 1135 21626 25992 ...     0     0     0]\n",
            " [37774  7548 12355 ...     0     0     0]\n",
            " [28524  5213 39232 ...     0     0     0]\n",
            " ...\n",
            " [25189 33718  9483 ...     0     0     0]\n",
            " [32450 23646 38920 ...     0     0     0]\n",
            " [ 7402 49883 22000 ...     0     0     0]]\n"
          ]
        }
      ]
    },
    {
      "cell_type": "code",
      "source": [
        "padded_docs1 = pad_sequences(encoded_docs1, maxlen=max_length, padding='post')\n",
        "print(padded_docs1)"
      ],
      "metadata": {
        "colab": {
          "base_uri": "https://localhost:8080/"
        },
        "id": "h2oPBAmnKX8f",
        "outputId": "87904047-5518-4734-cd34-2be90724da22"
      },
      "execution_count": 39,
      "outputs": [
        {
          "output_type": "stream",
          "name": "stdout",
          "text": [
            "[[ 9886 43416 15150 ...     0     0     0]\n",
            " [25292 25992 48716 ...     0     0     0]\n",
            " [37774  7548 26558 ...     0     0     0]\n",
            " ...\n",
            " [45346 36368 44189 ...     0     0     0]\n",
            " [14381  3249 25311 ...     0     0     0]\n",
            " [16926  5909 34001 ...     0     0     0]]\n"
          ]
        }
      ]
    },
    {
      "cell_type": "code",
      "source": [
        "# define the model\n",
        "embedding_vector_features = 100\n",
        "model = Sequential()\n",
        "model.add(Embedding(vocab_size, embedding_vector_features, input_length=max_length))\n",
        "# model.add(Flatten())\n",
        "# model.add(Dropout(0.3))\n",
        "model.add(LSTM(100))\n",
        "# model.add(Dropout(0.3))\n",
        "model.add(Dense(1, activation='relu'))\n",
        "\n",
        "# compile the model\n",
        "model.compile(optimizer='adam', loss='binary_crossentropy', metrics=['accuracy'])\n",
        "\n",
        "# summarize the model\n",
        "print(model.summary())"
      ],
      "metadata": {
        "id": "EYBrKJAq0B2X",
        "colab": {
          "base_uri": "https://localhost:8080/"
        },
        "outputId": "f334e8d5-2221-42dc-c7d2-df638915ca89"
      },
      "execution_count": 40,
      "outputs": [
        {
          "output_type": "stream",
          "name": "stdout",
          "text": [
            "Model: \"sequential_2\"\n",
            "_________________________________________________________________\n",
            " Layer (type)                Output Shape              Param #   \n",
            "=================================================================\n",
            " embedding_2 (Embedding)     (None, 30, 100)           5000000   \n",
            "                                                                 \n",
            " lstm_2 (LSTM)               (None, 100)               80400     \n",
            "                                                                 \n",
            " dense_2 (Dense)             (None, 1)                 101       \n",
            "                                                                 \n",
            "=================================================================\n",
            "Total params: 5,080,501\n",
            "Trainable params: 5,080,501\n",
            "Non-trainable params: 0\n",
            "_________________________________________________________________\n",
            "None\n"
          ]
        }
      ]
    },
    {
      "cell_type": "code",
      "source": [
        "from sklearn.model_selection import train_test_split\n",
        "X_train, X_test, y_train, y_test = train_test_split(padded_docs, y, test_size=0.2, random_state=42)"
      ],
      "metadata": {
        "id": "4vj7tUOEWdBX"
      },
      "execution_count": 22,
      "outputs": []
    },
    {
      "cell_type": "code",
      "source": [
        "# fit the model\n",
        "model.fit(padded_docs, y, epochs=2, verbose=1)\n",
        "\n",
        "# model.fit(X_train,y_train,validation_data=(X_test,y_test),epochs=100)"
      ],
      "metadata": {
        "colab": {
          "base_uri": "https://localhost:8080/"
        },
        "id": "JXMT5miM0Sqv",
        "outputId": "8e7375f9-13ad-4747-9330-9efc80e8dd51"
      },
      "execution_count": 41,
      "outputs": [
        {
          "output_type": "stream",
          "name": "stdout",
          "text": [
            "Epoch 1/2\n",
            "238/238 [==============================] - 12s 44ms/step - loss: 0.6412 - accuracy: 0.6662\n",
            "Epoch 2/2\n",
            "238/238 [==============================] - 10s 44ms/step - loss: 0.6079 - accuracy: 0.7278\n"
          ]
        },
        {
          "output_type": "execute_result",
          "data": {
            "text/plain": [
              "<keras.callbacks.History at 0x7f6154ffb8d0>"
            ]
          },
          "metadata": {},
          "execution_count": 41
        }
      ]
    },
    {
      "cell_type": "code",
      "source": [
        "import numpy\n",
        "y_pred=model.predict(X_test)\n",
        "final_y_pred=[]\n",
        "for i in range(len(y_pred)):\n",
        "  final_y_pred.append(int(numpy.round(y_pred[i])))\n",
        "final_y_pred"
      ],
      "metadata": {
        "id": "I4bgHS8CUGPY"
      },
      "execution_count": null,
      "outputs": []
    },
    {
      "cell_type": "code",
      "source": [
        "from sklearn.metrics import confusion_matrix\n",
        "confusion_matrix(y_test,final_y_pred)\n"
      ],
      "metadata": {
        "id": "7ot7QtPvTVUx"
      },
      "execution_count": null,
      "outputs": []
    },
    {
      "cell_type": "code",
      "source": [
        "from sklearn.metrics import accuracy_score\n",
        "accuracy_score(y_test,final_y_pred)"
      ],
      "metadata": {
        "id": "y1rrjDiLTYqn"
      },
      "execution_count": null,
      "outputs": []
    },
    {
      "cell_type": "code",
      "source": [
        "# evaluate the model\n",
        "loss, accuracy = model.evaluate(padded_docs, y, verbose=0)\n",
        "print('Accuracy: %f' % (accuracy*100))"
      ],
      "metadata": {
        "colab": {
          "base_uri": "https://localhost:8080/"
        },
        "id": "2XCYkG-D0UK5",
        "outputId": "54192f72-b4ab-4bf5-b067-48f25d53fbdf"
      },
      "execution_count": 44,
      "outputs": [
        {
          "output_type": "stream",
          "name": "stdout",
          "text": [
            "Accuracy: 89.228952\n"
          ]
        }
      ]
    },
    {
      "cell_type": "code",
      "source": [
        "ans = model.predict(padded_docs1)\n",
        "ans"
      ],
      "metadata": {
        "colab": {
          "base_uri": "https://localhost:8080/"
        },
        "id": "5uy5Jb8I5Pyt",
        "outputId": "78173ce8-0052-42ea-d5db-c6cdc7c1649b"
      },
      "execution_count": 45,
      "outputs": [
        {
          "output_type": "execute_result",
          "data": {
            "text/plain": [
              "array([[0.49888748],\n",
              "       [0.4929992 ],\n",
              "       [0.8512293 ],\n",
              "       ...,\n",
              "       [0.5073747 ],\n",
              "       [1.3166854 ],\n",
              "       [0.55112267]], dtype=float32)"
            ]
          },
          "metadata": {},
          "execution_count": 45
        }
      ]
    },
    {
      "cell_type": "code",
      "source": [
        "print(max(ans), min(ans))"
      ],
      "metadata": {
        "colab": {
          "base_uri": "https://localhost:8080/"
        },
        "id": "BetsVIL_hnEC",
        "outputId": "fde00d24-e4a4-4a2c-ae38-3b626b57f01e"
      },
      "execution_count": 46,
      "outputs": [
        {
          "output_type": "stream",
          "name": "stdout",
          "text": [
            "[1.7576863] [0.]\n"
          ]
        }
      ]
    },
    {
      "cell_type": "code",
      "source": [
        "import numpy\n",
        "final=[]\n",
        "for i in range(len(ans)):\n",
        "  final.append(int(numpy.round(ans[i])))\n",
        "final[:10]"
      ],
      "metadata": {
        "id": "Mu0w4Jo45kTc",
        "colab": {
          "base_uri": "https://localhost:8080/"
        },
        "outputId": "b52771cd-130c-48c6-c981-fc4c51cba941"
      },
      "execution_count": 50,
      "outputs": [
        {
          "output_type": "execute_result",
          "data": {
            "text/plain": [
              "[0, 0, 1, 0, 1, 0, 0, 0, 0, 0]"
            ]
          },
          "metadata": {},
          "execution_count": 50
        }
      ]
    },
    {
      "cell_type": "code",
      "source": [
        "convert(final,\"sub21\")"
      ],
      "metadata": {
        "id": "GainBmdQ6H5W"
      },
      "execution_count": 37,
      "outputs": []
    }
  ]
}