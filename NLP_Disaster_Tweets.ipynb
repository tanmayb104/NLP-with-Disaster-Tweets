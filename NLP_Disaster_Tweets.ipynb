{
  "nbformat": 4,
  "nbformat_minor": 0,
  "metadata": {
    "colab": {
      "name": "NLP_Disaster_Tweets.ipynb",
      "provenance": [],
      "authorship_tag": "ABX9TyOQp3dW8X4wHR6eDqK7EtzA",
      "include_colab_link": true
    },
    "kernelspec": {
      "name": "python3",
      "display_name": "Python 3"
    },
    "language_info": {
      "name": "python"
    }
  },
  "cells": [
    {
      "cell_type": "markdown",
      "metadata": {
        "id": "view-in-github",
        "colab_type": "text"
      },
      "source": [
        "<a href=\"https://colab.research.google.com/github/tanmayb104/NLP-with-Disaster-Tweets/blob/main/NLP_Disaster_Tweets.ipynb\" target=\"_parent\"><img src=\"https://colab.research.google.com/assets/colab-badge.svg\" alt=\"Open In Colab\"/></a>"
      ]
    },
    {
      "cell_type": "code",
      "execution_count": 9,
      "metadata": {
        "id": "uFs2yiWg5tG6"
      },
      "outputs": [],
      "source": [
        "import pandas as pd\n",
        "import nltk\n",
        "import seaborn as sns\n",
        "import matplotlib.pyplot as plt\n",
        "import re\n",
        "from nltk.corpus import stopwords\n",
        "from nltk.stem import PorterStemmer\n",
        "from nltk.stem import WordNetLemmatizer"
      ]
    },
    {
      "cell_type": "code",
      "source": [
        "nltk.download('stopwords')\n",
        "nltk.download('wordnet')"
      ],
      "metadata": {
        "colab": {
          "base_uri": "https://localhost:8080/"
        },
        "id": "HLwaXGvG65Rc",
        "outputId": "97aad3b8-fe70-4531-a3f1-854ed97d90d4"
      },
      "execution_count": 2,
      "outputs": [
        {
          "output_type": "stream",
          "name": "stdout",
          "text": [
            "[nltk_data] Downloading package stopwords to /root/nltk_data...\n",
            "[nltk_data]   Unzipping corpora/stopwords.zip.\n",
            "[nltk_data] Downloading package wordnet to /root/nltk_data...\n",
            "[nltk_data]   Unzipping corpora/wordnet.zip.\n"
          ]
        },
        {
          "output_type": "execute_result",
          "data": {
            "text/plain": [
              "True"
            ]
          },
          "metadata": {},
          "execution_count": 2
        }
      ]
    },
    {
      "cell_type": "markdown",
      "source": [
        "**Read Dataset**"
      ],
      "metadata": {
        "id": "-uNZ38uS8ZkL"
      }
    },
    {
      "cell_type": "code",
      "source": [
        "train = pd.read_csv('sample_data/train.csv')\n",
        "train.head()"
      ],
      "metadata": {
        "colab": {
          "base_uri": "https://localhost:8080/",
          "height": 206
        },
        "id": "ADA4nztF67EM",
        "outputId": "a7f0d62e-2d2d-4f29-e8bc-e226c607bc32"
      },
      "execution_count": 3,
      "outputs": [
        {
          "output_type": "execute_result",
          "data": {
            "text/html": [
              "\n",
              "  <div id=\"df-e1166665-67ec-46e3-a1f5-7fce148a73ea\">\n",
              "    <div class=\"colab-df-container\">\n",
              "      <div>\n",
              "<style scoped>\n",
              "    .dataframe tbody tr th:only-of-type {\n",
              "        vertical-align: middle;\n",
              "    }\n",
              "\n",
              "    .dataframe tbody tr th {\n",
              "        vertical-align: top;\n",
              "    }\n",
              "\n",
              "    .dataframe thead th {\n",
              "        text-align: right;\n",
              "    }\n",
              "</style>\n",
              "<table border=\"1\" class=\"dataframe\">\n",
              "  <thead>\n",
              "    <tr style=\"text-align: right;\">\n",
              "      <th></th>\n",
              "      <th>id</th>\n",
              "      <th>keyword</th>\n",
              "      <th>location</th>\n",
              "      <th>text</th>\n",
              "      <th>target</th>\n",
              "    </tr>\n",
              "  </thead>\n",
              "  <tbody>\n",
              "    <tr>\n",
              "      <th>0</th>\n",
              "      <td>1</td>\n",
              "      <td>NaN</td>\n",
              "      <td>NaN</td>\n",
              "      <td>Our Deeds are the Reason of this #earthquake M...</td>\n",
              "      <td>1</td>\n",
              "    </tr>\n",
              "    <tr>\n",
              "      <th>1</th>\n",
              "      <td>4</td>\n",
              "      <td>NaN</td>\n",
              "      <td>NaN</td>\n",
              "      <td>Forest fire near La Ronge Sask. Canada</td>\n",
              "      <td>1</td>\n",
              "    </tr>\n",
              "    <tr>\n",
              "      <th>2</th>\n",
              "      <td>5</td>\n",
              "      <td>NaN</td>\n",
              "      <td>NaN</td>\n",
              "      <td>All residents asked to 'shelter in place' are ...</td>\n",
              "      <td>1</td>\n",
              "    </tr>\n",
              "    <tr>\n",
              "      <th>3</th>\n",
              "      <td>6</td>\n",
              "      <td>NaN</td>\n",
              "      <td>NaN</td>\n",
              "      <td>13,000 people receive #wildfires evacuation or...</td>\n",
              "      <td>1</td>\n",
              "    </tr>\n",
              "    <tr>\n",
              "      <th>4</th>\n",
              "      <td>7</td>\n",
              "      <td>NaN</td>\n",
              "      <td>NaN</td>\n",
              "      <td>Just got sent this photo from Ruby #Alaska as ...</td>\n",
              "      <td>1</td>\n",
              "    </tr>\n",
              "  </tbody>\n",
              "</table>\n",
              "</div>\n",
              "      <button class=\"colab-df-convert\" onclick=\"convertToInteractive('df-e1166665-67ec-46e3-a1f5-7fce148a73ea')\"\n",
              "              title=\"Convert this dataframe to an interactive table.\"\n",
              "              style=\"display:none;\">\n",
              "        \n",
              "  <svg xmlns=\"http://www.w3.org/2000/svg\" height=\"24px\"viewBox=\"0 0 24 24\"\n",
              "       width=\"24px\">\n",
              "    <path d=\"M0 0h24v24H0V0z\" fill=\"none\"/>\n",
              "    <path d=\"M18.56 5.44l.94 2.06.94-2.06 2.06-.94-2.06-.94-.94-2.06-.94 2.06-2.06.94zm-11 1L8.5 8.5l.94-2.06 2.06-.94-2.06-.94L8.5 2.5l-.94 2.06-2.06.94zm10 10l.94 2.06.94-2.06 2.06-.94-2.06-.94-.94-2.06-.94 2.06-2.06.94z\"/><path d=\"M17.41 7.96l-1.37-1.37c-.4-.4-.92-.59-1.43-.59-.52 0-1.04.2-1.43.59L10.3 9.45l-7.72 7.72c-.78.78-.78 2.05 0 2.83L4 21.41c.39.39.9.59 1.41.59.51 0 1.02-.2 1.41-.59l7.78-7.78 2.81-2.81c.8-.78.8-2.07 0-2.86zM5.41 20L4 18.59l7.72-7.72 1.47 1.35L5.41 20z\"/>\n",
              "  </svg>\n",
              "      </button>\n",
              "      \n",
              "  <style>\n",
              "    .colab-df-container {\n",
              "      display:flex;\n",
              "      flex-wrap:wrap;\n",
              "      gap: 12px;\n",
              "    }\n",
              "\n",
              "    .colab-df-convert {\n",
              "      background-color: #E8F0FE;\n",
              "      border: none;\n",
              "      border-radius: 50%;\n",
              "      cursor: pointer;\n",
              "      display: none;\n",
              "      fill: #1967D2;\n",
              "      height: 32px;\n",
              "      padding: 0 0 0 0;\n",
              "      width: 32px;\n",
              "    }\n",
              "\n",
              "    .colab-df-convert:hover {\n",
              "      background-color: #E2EBFA;\n",
              "      box-shadow: 0px 1px 2px rgba(60, 64, 67, 0.3), 0px 1px 3px 1px rgba(60, 64, 67, 0.15);\n",
              "      fill: #174EA6;\n",
              "    }\n",
              "\n",
              "    [theme=dark] .colab-df-convert {\n",
              "      background-color: #3B4455;\n",
              "      fill: #D2E3FC;\n",
              "    }\n",
              "\n",
              "    [theme=dark] .colab-df-convert:hover {\n",
              "      background-color: #434B5C;\n",
              "      box-shadow: 0px 1px 3px 1px rgba(0, 0, 0, 0.15);\n",
              "      filter: drop-shadow(0px 1px 2px rgba(0, 0, 0, 0.3));\n",
              "      fill: #FFFFFF;\n",
              "    }\n",
              "  </style>\n",
              "\n",
              "      <script>\n",
              "        const buttonEl =\n",
              "          document.querySelector('#df-e1166665-67ec-46e3-a1f5-7fce148a73ea button.colab-df-convert');\n",
              "        buttonEl.style.display =\n",
              "          google.colab.kernel.accessAllowed ? 'block' : 'none';\n",
              "\n",
              "        async function convertToInteractive(key) {\n",
              "          const element = document.querySelector('#df-e1166665-67ec-46e3-a1f5-7fce148a73ea');\n",
              "          const dataTable =\n",
              "            await google.colab.kernel.invokeFunction('convertToInteractive',\n",
              "                                                     [key], {});\n",
              "          if (!dataTable) return;\n",
              "\n",
              "          const docLinkHtml = 'Like what you see? Visit the ' +\n",
              "            '<a target=\"_blank\" href=https://colab.research.google.com/notebooks/data_table.ipynb>data table notebook</a>'\n",
              "            + ' to learn more about interactive tables.';\n",
              "          element.innerHTML = '';\n",
              "          dataTable['output_type'] = 'display_data';\n",
              "          await google.colab.output.renderOutput(dataTable, element);\n",
              "          const docLink = document.createElement('div');\n",
              "          docLink.innerHTML = docLinkHtml;\n",
              "          element.appendChild(docLink);\n",
              "        }\n",
              "      </script>\n",
              "    </div>\n",
              "  </div>\n",
              "  "
            ],
            "text/plain": [
              "   id keyword  ...                                               text target\n",
              "0   1     NaN  ...  Our Deeds are the Reason of this #earthquake M...      1\n",
              "1   4     NaN  ...             Forest fire near La Ronge Sask. Canada      1\n",
              "2   5     NaN  ...  All residents asked to 'shelter in place' are ...      1\n",
              "3   6     NaN  ...  13,000 people receive #wildfires evacuation or...      1\n",
              "4   7     NaN  ...  Just got sent this photo from Ruby #Alaska as ...      1\n",
              "\n",
              "[5 rows x 5 columns]"
            ]
          },
          "metadata": {},
          "execution_count": 3
        }
      ]
    },
    {
      "cell_type": "code",
      "source": [
        "test = pd.read_csv('sample_data/test.csv')\n",
        "test.head()"
      ],
      "metadata": {
        "colab": {
          "base_uri": "https://localhost:8080/",
          "height": 206
        },
        "id": "ek01cunB7Nqk",
        "outputId": "1ba8deb6-0d9a-40fc-d456-733834e275e9"
      },
      "execution_count": 4,
      "outputs": [
        {
          "output_type": "execute_result",
          "data": {
            "text/html": [
              "\n",
              "  <div id=\"df-314a9043-00e9-4699-997b-39f4af028e2f\">\n",
              "    <div class=\"colab-df-container\">\n",
              "      <div>\n",
              "<style scoped>\n",
              "    .dataframe tbody tr th:only-of-type {\n",
              "        vertical-align: middle;\n",
              "    }\n",
              "\n",
              "    .dataframe tbody tr th {\n",
              "        vertical-align: top;\n",
              "    }\n",
              "\n",
              "    .dataframe thead th {\n",
              "        text-align: right;\n",
              "    }\n",
              "</style>\n",
              "<table border=\"1\" class=\"dataframe\">\n",
              "  <thead>\n",
              "    <tr style=\"text-align: right;\">\n",
              "      <th></th>\n",
              "      <th>id</th>\n",
              "      <th>keyword</th>\n",
              "      <th>location</th>\n",
              "      <th>text</th>\n",
              "    </tr>\n",
              "  </thead>\n",
              "  <tbody>\n",
              "    <tr>\n",
              "      <th>0</th>\n",
              "      <td>0</td>\n",
              "      <td>NaN</td>\n",
              "      <td>NaN</td>\n",
              "      <td>Just happened a terrible car crash</td>\n",
              "    </tr>\n",
              "    <tr>\n",
              "      <th>1</th>\n",
              "      <td>2</td>\n",
              "      <td>NaN</td>\n",
              "      <td>NaN</td>\n",
              "      <td>Heard about #earthquake is different cities, s...</td>\n",
              "    </tr>\n",
              "    <tr>\n",
              "      <th>2</th>\n",
              "      <td>3</td>\n",
              "      <td>NaN</td>\n",
              "      <td>NaN</td>\n",
              "      <td>there is a forest fire at spot pond, geese are...</td>\n",
              "    </tr>\n",
              "    <tr>\n",
              "      <th>3</th>\n",
              "      <td>9</td>\n",
              "      <td>NaN</td>\n",
              "      <td>NaN</td>\n",
              "      <td>Apocalypse lighting. #Spokane #wildfires</td>\n",
              "    </tr>\n",
              "    <tr>\n",
              "      <th>4</th>\n",
              "      <td>11</td>\n",
              "      <td>NaN</td>\n",
              "      <td>NaN</td>\n",
              "      <td>Typhoon Soudelor kills 28 in China and Taiwan</td>\n",
              "    </tr>\n",
              "  </tbody>\n",
              "</table>\n",
              "</div>\n",
              "      <button class=\"colab-df-convert\" onclick=\"convertToInteractive('df-314a9043-00e9-4699-997b-39f4af028e2f')\"\n",
              "              title=\"Convert this dataframe to an interactive table.\"\n",
              "              style=\"display:none;\">\n",
              "        \n",
              "  <svg xmlns=\"http://www.w3.org/2000/svg\" height=\"24px\"viewBox=\"0 0 24 24\"\n",
              "       width=\"24px\">\n",
              "    <path d=\"M0 0h24v24H0V0z\" fill=\"none\"/>\n",
              "    <path d=\"M18.56 5.44l.94 2.06.94-2.06 2.06-.94-2.06-.94-.94-2.06-.94 2.06-2.06.94zm-11 1L8.5 8.5l.94-2.06 2.06-.94-2.06-.94L8.5 2.5l-.94 2.06-2.06.94zm10 10l.94 2.06.94-2.06 2.06-.94-2.06-.94-.94-2.06-.94 2.06-2.06.94z\"/><path d=\"M17.41 7.96l-1.37-1.37c-.4-.4-.92-.59-1.43-.59-.52 0-1.04.2-1.43.59L10.3 9.45l-7.72 7.72c-.78.78-.78 2.05 0 2.83L4 21.41c.39.39.9.59 1.41.59.51 0 1.02-.2 1.41-.59l7.78-7.78 2.81-2.81c.8-.78.8-2.07 0-2.86zM5.41 20L4 18.59l7.72-7.72 1.47 1.35L5.41 20z\"/>\n",
              "  </svg>\n",
              "      </button>\n",
              "      \n",
              "  <style>\n",
              "    .colab-df-container {\n",
              "      display:flex;\n",
              "      flex-wrap:wrap;\n",
              "      gap: 12px;\n",
              "    }\n",
              "\n",
              "    .colab-df-convert {\n",
              "      background-color: #E8F0FE;\n",
              "      border: none;\n",
              "      border-radius: 50%;\n",
              "      cursor: pointer;\n",
              "      display: none;\n",
              "      fill: #1967D2;\n",
              "      height: 32px;\n",
              "      padding: 0 0 0 0;\n",
              "      width: 32px;\n",
              "    }\n",
              "\n",
              "    .colab-df-convert:hover {\n",
              "      background-color: #E2EBFA;\n",
              "      box-shadow: 0px 1px 2px rgba(60, 64, 67, 0.3), 0px 1px 3px 1px rgba(60, 64, 67, 0.15);\n",
              "      fill: #174EA6;\n",
              "    }\n",
              "\n",
              "    [theme=dark] .colab-df-convert {\n",
              "      background-color: #3B4455;\n",
              "      fill: #D2E3FC;\n",
              "    }\n",
              "\n",
              "    [theme=dark] .colab-df-convert:hover {\n",
              "      background-color: #434B5C;\n",
              "      box-shadow: 0px 1px 3px 1px rgba(0, 0, 0, 0.15);\n",
              "      filter: drop-shadow(0px 1px 2px rgba(0, 0, 0, 0.3));\n",
              "      fill: #FFFFFF;\n",
              "    }\n",
              "  </style>\n",
              "\n",
              "      <script>\n",
              "        const buttonEl =\n",
              "          document.querySelector('#df-314a9043-00e9-4699-997b-39f4af028e2f button.colab-df-convert');\n",
              "        buttonEl.style.display =\n",
              "          google.colab.kernel.accessAllowed ? 'block' : 'none';\n",
              "\n",
              "        async function convertToInteractive(key) {\n",
              "          const element = document.querySelector('#df-314a9043-00e9-4699-997b-39f4af028e2f');\n",
              "          const dataTable =\n",
              "            await google.colab.kernel.invokeFunction('convertToInteractive',\n",
              "                                                     [key], {});\n",
              "          if (!dataTable) return;\n",
              "\n",
              "          const docLinkHtml = 'Like what you see? Visit the ' +\n",
              "            '<a target=\"_blank\" href=https://colab.research.google.com/notebooks/data_table.ipynb>data table notebook</a>'\n",
              "            + ' to learn more about interactive tables.';\n",
              "          element.innerHTML = '';\n",
              "          dataTable['output_type'] = 'display_data';\n",
              "          await google.colab.output.renderOutput(dataTable, element);\n",
              "          const docLink = document.createElement('div');\n",
              "          docLink.innerHTML = docLinkHtml;\n",
              "          element.appendChild(docLink);\n",
              "        }\n",
              "      </script>\n",
              "    </div>\n",
              "  </div>\n",
              "  "
            ],
            "text/plain": [
              "   id keyword location                                               text\n",
              "0   0     NaN      NaN                 Just happened a terrible car crash\n",
              "1   2     NaN      NaN  Heard about #earthquake is different cities, s...\n",
              "2   3     NaN      NaN  there is a forest fire at spot pond, geese are...\n",
              "3   9     NaN      NaN           Apocalypse lighting. #Spokane #wildfires\n",
              "4  11     NaN      NaN      Typhoon Soudelor kills 28 in China and Taiwan"
            ]
          },
          "metadata": {},
          "execution_count": 4
        }
      ]
    },
    {
      "cell_type": "code",
      "source": [
        "print(train.shape)\n",
        "print(test.shape)"
      ],
      "metadata": {
        "colab": {
          "base_uri": "https://localhost:8080/"
        },
        "id": "Rm5iVvCiybZj",
        "outputId": "6b31486d-f627-4a67-839e-0f01d063cf7a"
      },
      "execution_count": 5,
      "outputs": [
        {
          "output_type": "stream",
          "name": "stdout",
          "text": [
            "(7613, 5)\n",
            "(3263, 4)\n"
          ]
        }
      ]
    },
    {
      "cell_type": "code",
      "source": [
        "train.isnull().sum()"
      ],
      "metadata": {
        "colab": {
          "base_uri": "https://localhost:8080/"
        },
        "id": "nXQtMFzByi8x",
        "outputId": "ddbe32b4-d647-4e36-bea1-02b99b3889eb"
      },
      "execution_count": 6,
      "outputs": [
        {
          "output_type": "execute_result",
          "data": {
            "text/plain": [
              "id             0\n",
              "keyword       61\n",
              "location    2533\n",
              "text           0\n",
              "target         0\n",
              "dtype: int64"
            ]
          },
          "metadata": {},
          "execution_count": 6
        }
      ]
    },
    {
      "cell_type": "code",
      "source": [
        "test.isnull().sum()"
      ],
      "metadata": {
        "colab": {
          "base_uri": "https://localhost:8080/"
        },
        "id": "PQLXmvOaylYQ",
        "outputId": "7d31e503-8f55-4696-c873-eca38a2ead21"
      },
      "execution_count": 7,
      "outputs": [
        {
          "output_type": "execute_result",
          "data": {
            "text/plain": [
              "id             0\n",
              "keyword       26\n",
              "location    1105\n",
              "text           0\n",
              "dtype: int64"
            ]
          },
          "metadata": {},
          "execution_count": 7
        }
      ]
    },
    {
      "cell_type": "code",
      "source": [
        "#Visualizing class distribution \n",
        "plt.figure(figsize=(12,8))\n",
        "sns.countplot(y='target',data = train,palette=\"Paired\")\n",
        "plt.ylabel(\"Tweet Fallacy\")\n",
        "plt.xlabel(\"Number of tweets\")\n",
        "plt.show()"
      ],
      "metadata": {
        "colab": {
          "base_uri": "https://localhost:8080/",
          "height": 497
        },
        "id": "YqMuG9VYyvoZ",
        "outputId": "b217287c-8a01-4e56-b10e-9fba852b170b"
      },
      "execution_count": 11,
      "outputs": [
        {
          "output_type": "display_data",
          "data": {
            "image/png": "[encoded data removed]",
            "text/plain": [
              "<Figure size 864x576 with 1 Axes>"
            ]
          },
          "metadata": {
            "needs_background": "light"
          }
        }
      ]
    },
    {
      "cell_type": "markdown",
      "source": [
        "**Clean the dataset**"
      ],
      "metadata": {
        "id": "I9moa4Kx8fQi"
      }
    },
    {
      "cell_type": "code",
      "source": [
        "ps = PorterStemmer()\n",
        "wordnet = WordNetLemmatizer()"
      ],
      "metadata": {
        "id": "PtWOacnB7fb8"
      },
      "execution_count": null,
      "outputs": []
    },
    {
      "cell_type": "code",
      "source": [
        "corpus = []\n",
        "for i in range(len(train)):\n",
        "    text = re.sub('[^a-zA-Z]', ' ', train['text'][i])\n",
        "    text = text.lower()\n",
        "    text = text.split()\n",
        "    text = [wordnet.lemmatize(word) for word in text if word not in set(stopwords.words('english'))]\n",
        "    text = ' '.join(text)\n",
        "    corpus.append(text)"
      ],
      "metadata": {
        "id": "Pegrsa9h7jsb"
      },
      "execution_count": null,
      "outputs": []
    },
    {
      "cell_type": "code",
      "source": [
        "corpus1 = []\n",
        "for i in range(len(test)):\n",
        "    text1 = re.sub('[^a-zA-Z]', ' ', test['text'][i])\n",
        "    text1 = text1.lower()\n",
        "    text1 = text1.split()\n",
        "    text1 = [wordnet.lemmatize(word) for word in text1 if word not in set(stopwords.words('english'))]\n",
        "    text1 = ' '.join(text1)\n",
        "    corpus1.append(text1)"
      ],
      "metadata": {
        "id": "KorFu2RI--3D"
      },
      "execution_count": null,
      "outputs": []
    },
    {
      "cell_type": "markdown",
      "source": [
        "**Bag Of Words**"
      ],
      "metadata": {
        "id": "Nfv_kn7k8imy"
      }
    },
    {
      "cell_type": "code",
      "source": [
        "from sklearn.feature_extraction.text import CountVectorizer\n",
        "\n",
        "cv = CountVectorizer(max_features=2500)\n",
        "X = cv.fit_transform(corpus).toarray()\n",
        "\n",
        "y = pd.get_dummies(train['target'])\n",
        "y = y.iloc[:, 1].values\n",
        "\n",
        "cv = CountVectorizer(max_features=2500)\n",
        "test_x = cv.fit_transform(corpus1).toarray()"
      ],
      "metadata": {
        "id": "d1_3-efh8On-"
      },
      "execution_count": null,
      "outputs": []
    },
    {
      "cell_type": "markdown",
      "source": [
        "**Tf-Idf**"
      ],
      "metadata": {
        "id": "8zHmGY338sIj"
      }
    },
    {
      "cell_type": "code",
      "source": [
        "from sklearn.feature_extraction.text import TfidfVectorizer\n",
        "\n",
        "cv = TfidfVectorizer(max_features=2500)\n",
        "X1 = cv.fit_transform(corpus).toarray()\n",
        "\n",
        "y1 = pd.get_dummies(train['target'])\n",
        "y1 = y1.iloc[:, 1].values\n",
        "\n",
        "cv = TfidfVectorizer(max_features=2500)\n",
        "test_x1 = cv.fit_transform(corpus1).toarray()"
      ],
      "metadata": {
        "id": "0e76DTYC8tg6"
      },
      "execution_count": null,
      "outputs": []
    },
    {
      "cell_type": "markdown",
      "source": [
        "**Confusion matrix and accuracy**"
      ],
      "metadata": {
        "id": "RxwrM98p98Iz"
      }
    },
    {
      "cell_type": "code",
      "source": [
        "from sklearn.metrics import confusion_matrix\n",
        "from sklearn.metrics import accuracy_score\n",
        "\n",
        "def calculate(y_test,y_pred):\n",
        "  confusion_m = confusion_matrix(y_test, y_pred)\n",
        "  accuracy = accuracy_score(y_test, y_pred)\n",
        "  print(confusion_m)\n",
        "  print(accuracy)"
      ],
      "metadata": {
        "id": "O5fdTg2y9-xE"
      },
      "execution_count": null,
      "outputs": []
    },
    {
      "cell_type": "markdown",
      "source": [
        "**Naive Bayes**"
      ],
      "metadata": {
        "id": "ui9hf4F3-D07"
      }
    },
    {
      "cell_type": "code",
      "source": [
        "from sklearn.naive_bayes import MultinomialNB\n",
        "\n",
        "spam_detect_model = MultinomialNB().fit(X1, y1)\n",
        "\n",
        "y_pred = spam_detect_model.predict(test_x1)\n",
        "y_pred"
      ],
      "metadata": {
        "colab": {
          "base_uri": "https://localhost:8080/"
        },
        "id": "sHSVPZNo-Ey7",
        "outputId": "eb9b3598-93d1-4854-f220-728908a02d18"
      },
      "execution_count": null,
      "outputs": [
        {
          "output_type": "execute_result",
          "data": {
            "text/plain": [
              "array([0, 0, 1, ..., 0, 0, 1], dtype=uint8)"
            ]
          },
          "metadata": {},
          "execution_count": 11
        }
      ]
    },
    {
      "cell_type": "markdown",
      "source": [
        "**Logistic Regression**"
      ],
      "metadata": {
        "id": "y9Ulv6XM-n-V"
      }
    },
    {
      "cell_type": "code",
      "source": [
        "from sklearn.linear_model import LogisticRegression\n",
        "\n",
        "logisticR = LogisticRegression()\n",
        "logisticR.fit(X1, y1)\n",
        "\n",
        "y_pred = logisticR.predict(test_x1)\n",
        "y_pred"
      ],
      "metadata": {
        "colab": {
          "base_uri": "https://localhost:8080/"
        },
        "id": "TNrI5SEO-pEa",
        "outputId": "e67db1a6-42b2-43e2-97f0-b07c0f4801a7"
      },
      "execution_count": null,
      "outputs": [
        {
          "output_type": "execute_result",
          "data": {
            "text/plain": [
              "array([0, 0, 0, ..., 0, 0, 1], dtype=uint8)"
            ]
          },
          "metadata": {},
          "execution_count": 12
        }
      ]
    },
    {
      "cell_type": "markdown",
      "source": [
        "**Random Forest Classifier**"
      ],
      "metadata": {
        "id": "JO7st3n9-qgN"
      }
    },
    {
      "cell_type": "code",
      "source": [
        "from sklearn.ensemble import RandomForestClassifier\n",
        "\n",
        "rfc = RandomForestClassifier()\n",
        "rfc.fit(X1, y1)\n",
        "\n",
        "y_pred = rfc.predict(test_x1)\n",
        "y_pred"
      ],
      "metadata": {
        "id": "xGII3IKM-sq8",
        "colab": {
          "base_uri": "https://localhost:8080/"
        },
        "outputId": "581fc943-4b82-49b5-ce85-415e9fa06363"
      },
      "execution_count": null,
      "outputs": [
        {
          "output_type": "execute_result",
          "data": {
            "text/plain": [
              "array([0, 0, 0, ..., 1, 0, 1], dtype=uint8)"
            ]
          },
          "metadata": {},
          "execution_count": 13
        }
      ]
    },
    {
      "cell_type": "markdown",
      "source": [
        "**Make submission file**"
      ],
      "metadata": {
        "id": "NW6rq9IzVLnD"
      }
    },
    {
      "cell_type": "code",
      "source": [
        "def convert(y_pred,name):\n",
        "  data={\"id\":test[\"id\"].tolist(),\"target\":y_pred}\n",
        "  df = pd.DataFrame(data)\n",
        "  df.to_csv(f\"{name}.csv\",index=False)"
      ],
      "metadata": {
        "id": "nfKPXBGSVM0D"
      },
      "execution_count": null,
      "outputs": []
    },
    {
      "cell_type": "markdown",
      "source": [
        "**Word Embeddings**"
      ],
      "metadata": {
        "id": "DUhVy2Otx3tT"
      }
    },
    {
      "cell_type": "code",
      "source": [
        "from numpy import array\n",
        "from keras.preprocessing.text import one_hot\n",
        "from keras.preprocessing.sequence import pad_sequences\n",
        "from keras.models import Sequential\n",
        "from keras.layers import Dense, Flatten, Dropout, Bidirectional\n",
        "from keras.layers.embeddings import Embedding\n",
        "from tensorflow.keras.layers import LSTM"
      ],
      "metadata": {
        "id": "AormPkOqy1JR"
      },
      "execution_count": null,
      "outputs": []
    },
    {
      "cell_type": "code",
      "source": [
        "a=set()\n",
        "for i in corpus:\n",
        "  for j in i.split():\n",
        "    a.add(j)\n",
        "for i in corpus1:\n",
        "  for j in i.split():\n",
        "    a.add(j)\n",
        "print(len(a))\n"
      ],
      "metadata": {
        "colab": {
          "base_uri": "https://localhost:8080/"
        },
        "id": "q3IUfLCMBlEB",
        "outputId": "9018cbb3-5ebb-4b73-c00a-593ff98e8c1e"
      },
      "execution_count": null,
      "outputs": [
        {
          "output_type": "stream",
          "name": "stdout",
          "text": [
            "26781\n"
          ]
        }
      ]
    },
    {
      "cell_type": "code",
      "source": [
        "vocab_size = 50000\n",
        "encoded_docs = [one_hot(d, vocab_size) for d in corpus]\n",
        "encoded_docs[:10]"
      ],
      "metadata": {
        "colab": {
          "base_uri": "https://localhost:8080/"
        },
        "id": "kf9pKCkHzXJv",
        "outputId": "cdc9256a-1547-47e6-b3bb-615e314c05ff"
      },
      "execution_count": null,
      "outputs": [
        {
          "output_type": "execute_result",
          "data": {
            "text/plain": [
              "[[45255, 44252, 6660, 12690, 26943, 9828, 23763],\n",
              " [22189, 21945, 36005, 34904, 9367, 49457, 994],\n",
              " [11513, 37692, 43790, 16388, 43700, 38876, 36254, 43790, 16388, 8538, 40773],\n",
              " [49412, 633, 30088, 36254, 8538, 43625],\n",
              " [29631, 44329, 8523, 47467, 29296, 42143, 30088, 772, 11778],\n",
              " [24017,\n",
              "  8268,\n",
              "  43625,\n",
              "  47453,\n",
              "  34162,\n",
              "  20769,\n",
              "  34982,\n",
              "  43954,\n",
              "  733,\n",
              "  21945,\n",
              "  19549,\n",
              "  30088],\n",
              " [31516,\n",
              "  559,\n",
              "  25445,\n",
              "  27564,\n",
              "  23239,\n",
              "  25014,\n",
              "  47069,\n",
              "  49907,\n",
              "  45280,\n",
              "  15082,\n",
              "  33807,\n",
              "  4516],\n",
              " [2331, 28681, 13647, 21945, 22682],\n",
              " [43472, 36254, 26327, 31466, 10748, 49907],\n",
              " [22804, 4332, 8967, 4516]]"
            ]
          },
          "metadata": {},
          "execution_count": 13
        }
      ]
    },
    {
      "cell_type": "code",
      "source": [
        "encoded_docs1 = [one_hot(d, vocab_size) for d in corpus1]\n",
        "encoded_docs1[:10]"
      ],
      "metadata": {
        "colab": {
          "base_uri": "https://localhost:8080/"
        },
        "id": "Zx_bVqD9Kh85",
        "outputId": "4651643d-3ed4-46fc-c06f-4ce6a2cb0de3"
      },
      "execution_count": null,
      "outputs": [
        {
          "output_type": "execute_result",
          "data": {
            "text/plain": [
              "[[23819, 15601, 34597, 35598],\n",
              " [45533, 6660, 30131, 28437, 3723, 8619, 34749],\n",
              " [22189, 21945, 34930, 37832, 41466, 15076, 10748, 49907, 16015, 6291],\n",
              " [23301, 7991, 10530, 30088],\n",
              " [21448, 26290, 11366, 23216, 25094],\n",
              " [41865, 6660],\n",
              " [33461, 1362, 17205, 18377, 6794, 28253, 46238, 46238],\n",
              " [31216],\n",
              " [44180, 33170],\n",
              " [45006]]"
            ]
          },
          "metadata": {},
          "execution_count": 14
        }
      ]
    },
    {
      "cell_type": "code",
      "source": [
        "# pad documents to a max length\n",
        "max_length = 0\n",
        "for i in encoded_docs:\n",
        "  max_length = max(max_length,len(i))\n",
        "for i in encoded_docs1:\n",
        "  max_length = max(max_length,len(i))\n",
        "print(max_length)"
      ],
      "metadata": {
        "colab": {
          "base_uri": "https://localhost:8080/"
        },
        "id": "uDjabDU4zntH",
        "outputId": "5c4c0c1e-b05c-44b4-eaea-2c445fe4d94b"
      },
      "execution_count": null,
      "outputs": [
        {
          "output_type": "stream",
          "name": "stdout",
          "text": [
            "27\n"
          ]
        }
      ]
    },
    {
      "cell_type": "code",
      "source": [
        "max_length = 30\n",
        "padded_docs = pad_sequences(encoded_docs, maxlen=max_length, padding='pre')\n",
        "print(padded_docs)"
      ],
      "metadata": {
        "colab": {
          "base_uri": "https://localhost:8080/"
        },
        "id": "XWa0AHi-KnpC",
        "outputId": "d7e778d6-36df-49c0-bea3-282b61e7bf0e"
      },
      "execution_count": null,
      "outputs": [
        {
          "output_type": "stream",
          "name": "stdout",
          "text": [
            "[[    0     0     0 ... 26943  9828 23763]\n",
            " [    0     0     0 ...  9367 49457   994]\n",
            " [    0     0     0 ... 16388  8538 40773]\n",
            " ...\n",
            " [    0     0     0 ... 30646 10877 25959]\n",
            " [    0     0     0 ... 18377 33351  9559]\n",
            " [    0     0     0 ... 30646 33489 16806]]\n"
          ]
        }
      ]
    },
    {
      "cell_type": "code",
      "source": [
        "padded_docs1 = pad_sequences(encoded_docs1, maxlen=max_length, padding='pre')\n",
        "print(padded_docs1)"
      ],
      "metadata": {
        "colab": {
          "base_uri": "https://localhost:8080/"
        },
        "id": "h2oPBAmnKX8f",
        "outputId": "de37b602-61c8-4b71-9cb3-846cd4ce0419"
      },
      "execution_count": null,
      "outputs": [
        {
          "output_type": "stream",
          "name": "stdout",
          "text": [
            "[[    0     0     0 ... 15601 34597 35598]\n",
            " [    0     0     0 ...  3723  8619 34749]\n",
            " [    0     0     0 ... 49907 16015  6291]\n",
            " ...\n",
            " [    0     0     0 ... 49519 30646 26616]\n",
            " [    0     0     0 ... 30646 22446 37558]\n",
            " [    0     0     0 ... 43472 23864  5816]]\n"
          ]
        }
      ]
    },
    {
      "cell_type": "code",
      "source": [
        "# define the model\n",
        "embedding_vector_features = 100\n",
        "model = Sequential()\n",
        "model.add(Embedding(vocab_size, embedding_vector_features, input_length=max_length))\n",
        "# model.add(Flatten())\n",
        "# model.add(Dropout(0.1))\n",
        "model.add(Bidirectional(LSTM(100)))\n",
        "# model.add(Dropout(0.1))\n",
        "model.add(Dense(1, activation='sigmoid'))\n",
        "\n",
        "# compile the model\n",
        "model.compile(optimizer='adam', loss='binary_crossentropy', metrics=['accuracy'])\n",
        "\n",
        "# summarize the model\n",
        "print(model.summary())"
      ],
      "metadata": {
        "id": "EYBrKJAq0B2X",
        "colab": {
          "base_uri": "https://localhost:8080/"
        },
        "outputId": "9f44cc73-92af-475c-d4e4-612d28ed2473"
      },
      "execution_count": null,
      "outputs": [
        {
          "output_type": "stream",
          "name": "stdout",
          "text": [
            "Model: \"sequential_3\"\n",
            "_________________________________________________________________\n",
            " Layer (type)                Output Shape              Param #   \n",
            "=================================================================\n",
            " embedding_3 (Embedding)     (None, 30, 100)           5000000   \n",
            "                                                                 \n",
            " bidirectional_3 (Bidirectio  (None, 200)              160800    \n",
            " nal)                                                            \n",
            "                                                                 \n",
            " dense_3 (Dense)             (None, 1)                 201       \n",
            "                                                                 \n",
            "=================================================================\n",
            "Total params: 5,161,001\n",
            "Trainable params: 5,161,001\n",
            "Non-trainable params: 0\n",
            "_________________________________________________________________\n",
            "None\n"
          ]
        }
      ]
    },
    {
      "cell_type": "code",
      "source": [
        "from sklearn.model_selection import train_test_split\n",
        "X_train, X_test, y_train, y_test = train_test_split(padded_docs, y, test_size=0.25)"
      ],
      "metadata": {
        "id": "4vj7tUOEWdBX"
      },
      "execution_count": null,
      "outputs": []
    },
    {
      "cell_type": "code",
      "source": [
        "# fit the model\n",
        "# model.fit(padded_docs, y, epochs=2, verbose=1)\n",
        "\n",
        "model.fit(X_train,y_train,validation_data=(X_test,y_test),epochs=100)"
      ],
      "metadata": {
        "colab": {
          "base_uri": "https://localhost:8080/"
        },
        "id": "JXMT5miM0Sqv",
        "outputId": "0d3910ff-68ac-4984-bb39-dfbecbaa6d66"
      },
      "execution_count": null,
      "outputs": [
        {
          "output_type": "stream",
          "name": "stdout",
          "text": [
            "Epoch 1/100\n",
            "179/179 [==============================] - 23s 109ms/step - loss: 0.5405 - accuracy: 0.7264 - val_loss: 0.4671 - val_accuracy: 0.7889\n",
            "Epoch 2/100\n",
            "179/179 [==============================] - 19s 104ms/step - loss: 0.2713 - accuracy: 0.8925 - val_loss: 0.5066 - val_accuracy: 0.7852\n",
            "Epoch 3/100\n",
            "179/179 [==============================] - 19s 105ms/step - loss: 0.1308 - accuracy: 0.9550 - val_loss: 0.6350 - val_accuracy: 0.7616\n",
            "Epoch 4/100\n",
            "179/179 [==============================] - 19s 105ms/step - loss: 0.0697 - accuracy: 0.9781 - val_loss: 0.8417 - val_accuracy: 0.7595\n",
            "Epoch 5/100\n",
            "179/179 [==============================] - 19s 104ms/step - loss: 0.0460 - accuracy: 0.9870 - val_loss: 0.8967 - val_accuracy: 0.7526\n",
            "Epoch 6/100\n",
            "179/179 [==============================] - 19s 104ms/step - loss: 0.0327 - accuracy: 0.9914 - val_loss: 0.9843 - val_accuracy: 0.7631\n",
            "Epoch 7/100\n",
            "179/179 [==============================] - 19s 104ms/step - loss: 0.0277 - accuracy: 0.9923 - val_loss: 0.8577 - val_accuracy: 0.7579\n",
            "Epoch 8/100\n",
            "179/179 [==============================] - 19s 105ms/step - loss: 0.0198 - accuracy: 0.9940 - val_loss: 1.2110 - val_accuracy: 0.7616\n",
            "Epoch 9/100\n",
            "179/179 [==============================] - 19s 105ms/step - loss: 0.0193 - accuracy: 0.9939 - val_loss: 0.8928 - val_accuracy: 0.7595\n",
            "Epoch 10/100\n",
            "179/179 [==============================] - 19s 105ms/step - loss: 0.0160 - accuracy: 0.9932 - val_loss: 1.0588 - val_accuracy: 0.7547\n",
            "Epoch 11/100\n",
            "179/179 [==============================] - 19s 106ms/step - loss: 0.0109 - accuracy: 0.9940 - val_loss: 1.0996 - val_accuracy: 0.7505\n",
            "Epoch 12/100\n",
            "179/179 [==============================] - 19s 105ms/step - loss: 0.0090 - accuracy: 0.9954 - val_loss: 1.2308 - val_accuracy: 0.7542\n",
            "Epoch 13/100\n",
            "179/179 [==============================] - 19s 106ms/step - loss: 0.0084 - accuracy: 0.9961 - val_loss: 1.4535 - val_accuracy: 0.7458\n",
            "Epoch 14/100\n",
            "179/179 [==============================] - 19s 105ms/step - loss: 0.0078 - accuracy: 0.9954 - val_loss: 1.4937 - val_accuracy: 0.7421\n",
            "Epoch 15/100\n",
            "179/179 [==============================] - 19s 105ms/step - loss: 0.0074 - accuracy: 0.9958 - val_loss: 1.5504 - val_accuracy: 0.7516\n",
            "Epoch 16/100\n",
            "179/179 [==============================] - 19s 105ms/step - loss: 0.0071 - accuracy: 0.9960 - val_loss: 1.7817 - val_accuracy: 0.7500\n",
            "Epoch 17/100\n",
            "179/179 [==============================] - 19s 106ms/step - loss: 0.0072 - accuracy: 0.9961 - val_loss: 1.4056 - val_accuracy: 0.7521\n",
            "Epoch 18/100\n",
            "179/179 [==============================] - 19s 105ms/step - loss: 0.0069 - accuracy: 0.9961 - val_loss: 1.6021 - val_accuracy: 0.7484\n",
            "Epoch 19/100\n",
            "179/179 [==============================] - 19s 105ms/step - loss: 0.0067 - accuracy: 0.9965 - val_loss: 1.6842 - val_accuracy: 0.7458\n",
            "Epoch 20/100\n",
            "179/179 [==============================] - 19s 104ms/step - loss: 0.0067 - accuracy: 0.9958 - val_loss: 1.6185 - val_accuracy: 0.7468\n",
            "Epoch 21/100\n",
            "179/179 [==============================] - 19s 105ms/step - loss: 0.0064 - accuracy: 0.9963 - val_loss: 2.2251 - val_accuracy: 0.7500\n",
            "Epoch 22/100\n",
            "179/179 [==============================] - 19s 104ms/step - loss: 0.0205 - accuracy: 0.9928 - val_loss: 1.4766 - val_accuracy: 0.7442\n",
            "Epoch 23/100\n",
            "179/179 [==============================] - 19s 105ms/step - loss: 0.0298 - accuracy: 0.9902 - val_loss: 0.9618 - val_accuracy: 0.7468\n",
            "Epoch 24/100\n",
            "179/179 [==============================] - 19s 106ms/step - loss: 0.0155 - accuracy: 0.9932 - val_loss: 1.4081 - val_accuracy: 0.7505\n",
            "Epoch 25/100\n",
            "179/179 [==============================] - 19s 106ms/step - loss: 0.0108 - accuracy: 0.9953 - val_loss: 1.2825 - val_accuracy: 0.7342\n",
            "Epoch 26/100\n",
            "179/179 [==============================] - 19s 105ms/step - loss: 0.0069 - accuracy: 0.9960 - val_loss: 1.4119 - val_accuracy: 0.7384\n",
            "Epoch 27/100\n",
            "179/179 [==============================] - 19s 106ms/step - loss: 0.0066 - accuracy: 0.9961 - val_loss: 1.5014 - val_accuracy: 0.7395\n",
            "Epoch 28/100\n",
            "179/179 [==============================] - 19s 105ms/step - loss: 0.0065 - accuracy: 0.9958 - val_loss: 1.5681 - val_accuracy: 0.7442\n",
            "Epoch 29/100\n",
            "179/179 [==============================] - 19s 106ms/step - loss: 0.0065 - accuracy: 0.9960 - val_loss: 1.6360 - val_accuracy: 0.7426\n",
            "Epoch 30/100\n",
            "179/179 [==============================] - 19s 107ms/step - loss: 0.0064 - accuracy: 0.9956 - val_loss: 1.6544 - val_accuracy: 0.7432\n",
            "Epoch 31/100\n",
            "179/179 [==============================] - 19s 105ms/step - loss: 0.0065 - accuracy: 0.9963 - val_loss: 1.6888 - val_accuracy: 0.7426\n",
            "Epoch 32/100\n",
            "179/179 [==============================] - 19s 106ms/step - loss: 0.0063 - accuracy: 0.9961 - val_loss: 1.7381 - val_accuracy: 0.7432\n",
            "Epoch 33/100\n",
            "179/179 [==============================] - 19s 106ms/step - loss: 0.0062 - accuracy: 0.9965 - val_loss: 1.8009 - val_accuracy: 0.7395\n",
            "Epoch 34/100\n",
            "179/179 [==============================] - 19s 106ms/step - loss: 0.0064 - accuracy: 0.9958 - val_loss: 1.8536 - val_accuracy: 0.7432\n",
            "Epoch 35/100\n",
            "179/179 [==============================] - 19s 106ms/step - loss: 0.0063 - accuracy: 0.9960 - val_loss: 1.7885 - val_accuracy: 0.7437\n",
            "Epoch 36/100\n",
            "179/179 [==============================] - 19s 106ms/step - loss: 0.0062 - accuracy: 0.9965 - val_loss: 1.8491 - val_accuracy: 0.7437\n",
            "Epoch 37/100\n",
            "179/179 [==============================] - 19s 106ms/step - loss: 0.0061 - accuracy: 0.9965 - val_loss: 1.8793 - val_accuracy: 0.7379\n",
            "Epoch 38/100\n",
            "179/179 [==============================] - 19s 106ms/step - loss: 0.0061 - accuracy: 0.9954 - val_loss: 1.9304 - val_accuracy: 0.7421\n",
            "Epoch 39/100\n",
            "179/179 [==============================] - 19s 106ms/step - loss: 0.0061 - accuracy: 0.9965 - val_loss: 1.8931 - val_accuracy: 0.7395\n",
            "Epoch 40/100\n",
            "179/179 [==============================] - 19s 107ms/step - loss: 0.0096 - accuracy: 0.9953 - val_loss: 1.2613 - val_accuracy: 0.7190\n",
            "Epoch 41/100\n",
            "179/179 [==============================] - 19s 106ms/step - loss: 0.0178 - accuracy: 0.9939 - val_loss: 1.2187 - val_accuracy: 0.7353\n",
            "Epoch 42/100\n",
            "179/179 [==============================] - 19s 106ms/step - loss: 0.0181 - accuracy: 0.9940 - val_loss: 1.1855 - val_accuracy: 0.7358\n",
            "Epoch 43/100\n",
            "179/179 [==============================] - 19s 106ms/step - loss: 0.0082 - accuracy: 0.9953 - val_loss: 1.2896 - val_accuracy: 0.7227\n",
            "Epoch 44/100\n",
            "179/179 [==============================] - 19s 106ms/step - loss: 0.0063 - accuracy: 0.9968 - val_loss: 1.4059 - val_accuracy: 0.7311\n",
            "Epoch 45/100\n",
            "179/179 [==============================] - 19s 106ms/step - loss: 0.0061 - accuracy: 0.9960 - val_loss: 1.4696 - val_accuracy: 0.7358\n",
            "Epoch 46/100\n",
            "179/179 [==============================] - 19s 106ms/step - loss: 0.0061 - accuracy: 0.9965 - val_loss: 1.5049 - val_accuracy: 0.7342\n",
            "Epoch 47/100\n",
            "179/179 [==============================] - 19s 105ms/step - loss: 0.0060 - accuracy: 0.9967 - val_loss: 1.5537 - val_accuracy: 0.7348\n",
            "Epoch 48/100\n",
            "179/179 [==============================] - 19s 105ms/step - loss: 0.0059 - accuracy: 0.9967 - val_loss: 1.5815 - val_accuracy: 0.7369\n",
            "Epoch 49/100\n",
            "179/179 [==============================] - 19s 105ms/step - loss: 0.0060 - accuracy: 0.9961 - val_loss: 1.6086 - val_accuracy: 0.7348\n",
            "Epoch 50/100\n",
            "179/179 [==============================] - 19s 105ms/step - loss: 0.0058 - accuracy: 0.9968 - val_loss: 1.6361 - val_accuracy: 0.7405\n",
            "Epoch 51/100\n",
            "179/179 [==============================] - 19s 105ms/step - loss: 0.0059 - accuracy: 0.9963 - val_loss: 1.6654 - val_accuracy: 0.7395\n",
            "Epoch 52/100\n",
            "179/179 [==============================] - 19s 106ms/step - loss: 0.0060 - accuracy: 0.9960 - val_loss: 1.6897 - val_accuracy: 0.7390\n",
            "Epoch 53/100\n",
            "179/179 [==============================] - 19s 105ms/step - loss: 0.0058 - accuracy: 0.9960 - val_loss: 1.7204 - val_accuracy: 0.7395\n",
            "Epoch 54/100\n",
            "179/179 [==============================] - 19s 106ms/step - loss: 0.0058 - accuracy: 0.9960 - val_loss: 1.7464 - val_accuracy: 0.7384\n",
            "Epoch 55/100\n",
            "179/179 [==============================] - 19s 107ms/step - loss: 0.0058 - accuracy: 0.9963 - val_loss: 1.7533 - val_accuracy: 0.7384\n",
            "Epoch 56/100\n",
            "179/179 [==============================] - 19s 106ms/step - loss: 0.0058 - accuracy: 0.9970 - val_loss: 1.7796 - val_accuracy: 0.7421\n",
            "Epoch 57/100\n",
            "179/179 [==============================] - 19s 105ms/step - loss: 0.0058 - accuracy: 0.9965 - val_loss: 1.8081 - val_accuracy: 0.7390\n",
            "Epoch 58/100\n",
            "179/179 [==============================] - 19s 105ms/step - loss: 0.0057 - accuracy: 0.9961 - val_loss: 1.8106 - val_accuracy: 0.7395\n",
            "Epoch 59/100\n",
            "179/179 [==============================] - 19s 105ms/step - loss: 0.0057 - accuracy: 0.9965 - val_loss: 1.8393 - val_accuracy: 0.7384\n",
            "Epoch 60/100\n",
            "179/179 [==============================] - 19s 104ms/step - loss: 0.0058 - accuracy: 0.9965 - val_loss: 1.8709 - val_accuracy: 0.7421\n",
            "Epoch 61/100\n",
            "179/179 [==============================] - 19s 105ms/step - loss: 0.0057 - accuracy: 0.9961 - val_loss: 1.8811 - val_accuracy: 0.7379\n",
            "Epoch 62/100\n",
            "179/179 [==============================] - 19s 105ms/step - loss: 0.0057 - accuracy: 0.9963 - val_loss: 1.9067 - val_accuracy: 0.7426\n",
            "Epoch 63/100\n",
            "179/179 [==============================] - 19s 106ms/step - loss: 0.0057 - accuracy: 0.9965 - val_loss: 1.9299 - val_accuracy: 0.7369\n",
            "Epoch 64/100\n",
            "179/179 [==============================] - 19s 106ms/step - loss: 0.0058 - accuracy: 0.9961 - val_loss: 1.9455 - val_accuracy: 0.7384\n",
            "Epoch 65/100\n",
            "179/179 [==============================] - 19s 106ms/step - loss: 0.0057 - accuracy: 0.9960 - val_loss: 1.9791 - val_accuracy: 0.7369\n",
            "Epoch 66/100\n",
            "179/179 [==============================] - 19s 106ms/step - loss: 0.0057 - accuracy: 0.9963 - val_loss: 1.9905 - val_accuracy: 0.7363\n",
            "Epoch 67/100\n",
            "179/179 [==============================] - 19s 106ms/step - loss: 0.0057 - accuracy: 0.9967 - val_loss: 2.0022 - val_accuracy: 0.7369\n",
            "Epoch 68/100\n",
            "179/179 [==============================] - 19s 106ms/step - loss: 0.0057 - accuracy: 0.9963 - val_loss: 2.0296 - val_accuracy: 0.7363\n",
            "Epoch 69/100\n",
            "179/179 [==============================] - 19s 106ms/step - loss: 0.0056 - accuracy: 0.9963 - val_loss: 2.0547 - val_accuracy: 0.7369\n",
            "Epoch 70/100\n",
            "179/179 [==============================] - 19s 106ms/step - loss: 0.0058 - accuracy: 0.9965 - val_loss: 2.0792 - val_accuracy: 0.7358\n",
            "Epoch 71/100\n",
            "179/179 [==============================] - 19s 105ms/step - loss: 0.0056 - accuracy: 0.9968 - val_loss: 2.0880 - val_accuracy: 0.7348\n",
            "Epoch 72/100\n",
            "179/179 [==============================] - 19s 106ms/step - loss: 0.0057 - accuracy: 0.9965 - val_loss: 2.1184 - val_accuracy: 0.7374\n",
            "Epoch 73/100\n",
            "179/179 [==============================] - 19s 105ms/step - loss: 0.0056 - accuracy: 0.9965 - val_loss: 2.1352 - val_accuracy: 0.7348\n",
            "Epoch 74/100\n",
            "179/179 [==============================] - 19s 106ms/step - loss: 0.0057 - accuracy: 0.9963 - val_loss: 2.1258 - val_accuracy: 0.7363\n",
            "Epoch 75/100\n",
            "179/179 [==============================] - 19s 106ms/step - loss: 0.0057 - accuracy: 0.9965 - val_loss: 2.1747 - val_accuracy: 0.7353\n",
            "Epoch 76/100\n",
            "179/179 [==============================] - 19s 106ms/step - loss: 0.0057 - accuracy: 0.9961 - val_loss: 2.2121 - val_accuracy: 0.7379\n",
            "Epoch 77/100\n",
            "179/179 [==============================] - 19s 106ms/step - loss: 0.0056 - accuracy: 0.9960 - val_loss: 2.2283 - val_accuracy: 0.7358\n",
            "Epoch 78/100\n",
            "179/179 [==============================] - 19s 106ms/step - loss: 0.0056 - accuracy: 0.9961 - val_loss: 2.2554 - val_accuracy: 0.7332\n",
            "Epoch 79/100\n",
            "179/179 [==============================] - 19s 106ms/step - loss: 0.0056 - accuracy: 0.9968 - val_loss: 2.4879 - val_accuracy: 0.7384\n",
            "Epoch 80/100\n",
            "179/179 [==============================] - 19s 105ms/step - loss: 0.0237 - accuracy: 0.9940 - val_loss: 1.1462 - val_accuracy: 0.7295\n",
            "Epoch 81/100\n",
            "179/179 [==============================] - 19s 105ms/step - loss: 0.0162 - accuracy: 0.9933 - val_loss: 1.4008 - val_accuracy: 0.7222\n",
            "Epoch 82/100\n",
            "179/179 [==============================] - 19s 106ms/step - loss: 0.0102 - accuracy: 0.9956 - val_loss: 1.1808 - val_accuracy: 0.7379\n",
            "Epoch 83/100\n",
            "179/179 [==============================] - 19s 106ms/step - loss: 0.0059 - accuracy: 0.9963 - val_loss: 1.3105 - val_accuracy: 0.7300\n",
            "Epoch 84/100\n",
            "179/179 [==============================] - 19s 106ms/step - loss: 0.0057 - accuracy: 0.9967 - val_loss: 1.3579 - val_accuracy: 0.7306\n",
            "Epoch 85/100\n",
            "179/179 [==============================] - 19s 106ms/step - loss: 0.0057 - accuracy: 0.9963 - val_loss: 1.3937 - val_accuracy: 0.7332\n",
            "Epoch 86/100\n",
            "179/179 [==============================] - 19s 107ms/step - loss: 0.0056 - accuracy: 0.9967 - val_loss: 1.4306 - val_accuracy: 0.7327\n",
            "Epoch 87/100\n",
            "179/179 [==============================] - 19s 106ms/step - loss: 0.0056 - accuracy: 0.9970 - val_loss: 1.4589 - val_accuracy: 0.7327\n",
            "Epoch 88/100\n",
            "179/179 [==============================] - 19s 106ms/step - loss: 0.0056 - accuracy: 0.9961 - val_loss: 1.4871 - val_accuracy: 0.7306\n",
            "Epoch 89/100\n",
            "179/179 [==============================] - 19s 106ms/step - loss: 0.0056 - accuracy: 0.9968 - val_loss: 1.5138 - val_accuracy: 0.7316\n",
            "Epoch 90/100\n",
            "179/179 [==============================] - 19s 107ms/step - loss: 0.0057 - accuracy: 0.9961 - val_loss: 1.5323 - val_accuracy: 0.7311\n",
            "Epoch 91/100\n",
            "179/179 [==============================] - 19s 106ms/step - loss: 0.0056 - accuracy: 0.9963 - val_loss: 1.5586 - val_accuracy: 0.7306\n",
            "Epoch 92/100\n",
            "179/179 [==============================] - 19s 106ms/step - loss: 0.0056 - accuracy: 0.9963 - val_loss: 1.5778 - val_accuracy: 0.7321\n",
            "Epoch 93/100\n",
            "179/179 [==============================] - 19s 106ms/step - loss: 0.0056 - accuracy: 0.9963 - val_loss: 1.6009 - val_accuracy: 0.7316\n",
            "Epoch 94/100\n",
            "179/179 [==============================] - 19s 106ms/step - loss: 0.0056 - accuracy: 0.9967 - val_loss: 1.6219 - val_accuracy: 0.7311\n",
            "Epoch 95/100\n",
            "179/179 [==============================] - 19s 106ms/step - loss: 0.0055 - accuracy: 0.9965 - val_loss: 1.6440 - val_accuracy: 0.7321\n",
            "Epoch 96/100\n",
            "179/179 [==============================] - 19s 107ms/step - loss: 0.0056 - accuracy: 0.9965 - val_loss: 1.6584 - val_accuracy: 0.7337\n",
            "Epoch 97/100\n",
            "179/179 [==============================] - 19s 106ms/step - loss: 0.0056 - accuracy: 0.9965 - val_loss: 1.6739 - val_accuracy: 0.7337\n",
            "Epoch 98/100\n",
            "179/179 [==============================] - 19s 106ms/step - loss: 0.0056 - accuracy: 0.9961 - val_loss: 1.6921 - val_accuracy: 0.7311\n",
            "Epoch 99/100\n",
            "179/179 [==============================] - 19s 106ms/step - loss: 0.0056 - accuracy: 0.9961 - val_loss: 1.7099 - val_accuracy: 0.7311\n",
            "Epoch 100/100\n",
            "179/179 [==============================] - 19s 106ms/step - loss: 0.0056 - accuracy: 0.9963 - val_loss: 1.7288 - val_accuracy: 0.7327\n"
          ]
        },
        {
          "output_type": "execute_result",
          "data": {
            "text/plain": [
              "<keras.callbacks.History at 0x7ff912244890>"
            ]
          },
          "metadata": {},
          "execution_count": 41
        }
      ]
    },
    {
      "cell_type": "code",
      "source": [
        "import numpy\n",
        "y_pred=model.predict(X_test)\n",
        "final_y_pred=[]\n",
        "for i in range(len(y_pred)):\n",
        "  final_y_pred.append(int(numpy.round(y_pred[i])))\n",
        "final_y_pred[:10]"
      ],
      "metadata": {
        "colab": {
          "base_uri": "https://localhost:8080/"
        },
        "id": "I4bgHS8CUGPY",
        "outputId": "905aacdb-d5a5-46b5-fa84-3f8e692aa3f8"
      },
      "execution_count": null,
      "outputs": [
        {
          "output_type": "execute_result",
          "data": {
            "text/plain": [
              "[1, 0, 0, 1, 0, 0, 0, 1, 1, 0]"
            ]
          },
          "metadata": {},
          "execution_count": 42
        }
      ]
    },
    {
      "cell_type": "code",
      "source": [
        "from sklearn.metrics import confusion_matrix\n",
        "confusion_matrix(y_test,final_y_pred)\n"
      ],
      "metadata": {
        "colab": {
          "base_uri": "https://localhost:8080/"
        },
        "id": "7ot7QtPvTVUx",
        "outputId": "2df02633-6ecb-45a1-956b-d0006c828467"
      },
      "execution_count": null,
      "outputs": [
        {
          "output_type": "execute_result",
          "data": {
            "text/plain": [
              "array([[795, 266],\n",
              "       [243, 600]])"
            ]
          },
          "metadata": {},
          "execution_count": 43
        }
      ]
    },
    {
      "cell_type": "code",
      "source": [
        "from sklearn.metrics import accuracy_score\n",
        "accuracy_score(y_test,final_y_pred)"
      ],
      "metadata": {
        "colab": {
          "base_uri": "https://localhost:8080/"
        },
        "id": "y1rrjDiLTYqn",
        "outputId": "8bd090c5-4b6d-4527-cf78-3a841ae0fdd1"
      },
      "execution_count": null,
      "outputs": [
        {
          "output_type": "execute_result",
          "data": {
            "text/plain": [
              "0.7326680672268907"
            ]
          },
          "metadata": {},
          "execution_count": 44
        }
      ]
    },
    {
      "cell_type": "code",
      "source": [
        "0.7542016806722689\n",
        "0.7547268907563025"
      ],
      "metadata": {
        "colab": {
          "base_uri": "https://localhost:8080/"
        },
        "id": "lUYptHVfFxHp",
        "outputId": "2ece8627-82fb-4006-ab00-ceeb772eb734"
      },
      "execution_count": null,
      "outputs": [
        {
          "output_type": "execute_result",
          "data": {
            "text/plain": [
              "0.7542016806722689"
            ]
          },
          "metadata": {},
          "execution_count": 38
        }
      ]
    },
    {
      "cell_type": "code",
      "source": [
        "from sklearn.metrics import classification_report\n",
        "print(classification_report(y_test,final_y_pred))"
      ],
      "metadata": {
        "colab": {
          "base_uri": "https://localhost:8080/"
        },
        "id": "35wh51UKB853",
        "outputId": "8ab5b719-c373-4800-ce15-68bdaf3e2124"
      },
      "execution_count": null,
      "outputs": [
        {
          "output_type": "stream",
          "name": "stdout",
          "text": [
            "              precision    recall  f1-score   support\n",
            "\n",
            "           0       0.77      0.76      0.77      1088\n",
            "           1       0.69      0.69      0.69       816\n",
            "\n",
            "    accuracy                           0.73      1904\n",
            "   macro avg       0.73      0.73      0.73      1904\n",
            "weighted avg       0.74      0.73      0.73      1904\n",
            "\n"
          ]
        }
      ]
    },
    {
      "cell_type": "code",
      "source": [
        "# evaluate the model\n",
        "loss, accuracy = model.evaluate(padded_docs, y, verbose=0)\n",
        "print('Accuracy: %f' % (accuracy*100))"
      ],
      "metadata": {
        "colab": {
          "base_uri": "https://localhost:8080/"
        },
        "id": "2XCYkG-D0UK5",
        "outputId": "6f31bd25-41c9-491c-a87a-9f738d8ef4ec"
      },
      "execution_count": null,
      "outputs": [
        {
          "output_type": "stream",
          "name": "stdout",
          "text": [
            "Accuracy: 92.959410\n"
          ]
        }
      ]
    },
    {
      "cell_type": "code",
      "source": [
        "ans = model.predict(padded_docs1)\n",
        "ans"
      ],
      "metadata": {
        "colab": {
          "base_uri": "https://localhost:8080/"
        },
        "id": "5uy5Jb8I5Pyt",
        "outputId": "c6ecb7c1-26bb-4854-e8dc-43e62a491cd8"
      },
      "execution_count": null,
      "outputs": [
        {
          "output_type": "execute_result",
          "data": {
            "text/plain": [
              "array([[0.24624029],\n",
              "       [0.8926535 ],\n",
              "       [0.9985329 ],\n",
              "       ...,\n",
              "       [0.8981863 ],\n",
              "       [0.6345803 ],\n",
              "       [0.99012226]], dtype=float32)"
            ]
          },
          "metadata": {},
          "execution_count": 127
        }
      ]
    },
    {
      "cell_type": "code",
      "source": [
        "print(min(ans),max(ans))"
      ],
      "metadata": {
        "colab": {
          "base_uri": "https://localhost:8080/"
        },
        "id": "K50bUdVB-FDU",
        "outputId": "944f3949-f2b5-4350-dc92-d3da11b52a46"
      },
      "execution_count": null,
      "outputs": [
        {
          "output_type": "stream",
          "name": "stdout",
          "text": [
            "[4.6148438e-07] [0.99999654]\n"
          ]
        }
      ]
    },
    {
      "cell_type": "code",
      "source": [
        "import numpy\n",
        "final=[]\n",
        "for i in range(len(ans)):\n",
        "  final.append(int(numpy.round(ans[i])))\n",
        "final[:10]"
      ],
      "metadata": {
        "id": "Mu0w4Jo45kTc",
        "colab": {
          "base_uri": "https://localhost:8080/"
        },
        "outputId": "b89843e6-ab5a-417d-9fab-485c5eb1d3cd"
      },
      "execution_count": null,
      "outputs": [
        {
          "output_type": "execute_result",
          "data": {
            "text/plain": [
              "[0, 1, 1, 1, 1, 1, 0, 0, 0, 0]"
            ]
          },
          "metadata": {},
          "execution_count": 129
        }
      ]
    },
    {
      "cell_type": "code",
      "source": [
        "convert(final,\"sub22\")"
      ],
      "metadata": {
        "id": "GainBmdQ6H5W"
      },
      "execution_count": null,
      "outputs": []
    }
  ]
}